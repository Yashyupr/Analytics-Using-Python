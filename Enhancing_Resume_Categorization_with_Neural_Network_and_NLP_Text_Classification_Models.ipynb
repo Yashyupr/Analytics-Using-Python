{
  "nbformat": 4,
  "nbformat_minor": 0,
  "metadata": {
    "colab": {
      "provenance": [],
      "gpuType": "T4",
      "authorship_tag": "ABX9TyNxO+oBIn0TOqlVhjaLi7H5",
      "include_colab_link": true
    },
    "kernelspec": {
      "name": "python3",
      "display_name": "Python 3"
    },
    "language_info": {
      "name": "python"
    },
    "accelerator": "GPU"
  },
  "cells": [
    {
      "cell_type": "markdown",
      "metadata": {
        "id": "view-in-github",
        "colab_type": "text"
      },
      "source": [
        "<a href=\"https://colab.research.google.com/github/Yashyupr/Analytics-Using-Python/blob/master/Enhancing_Resume_Categorization_with_Neural_Network_and_NLP_Text_Classification_Models.ipynb\" target=\"_parent\"><img src=\"https://colab.research.google.com/assets/colab-badge.svg\" alt=\"Open In Colab\"/></a>"
      ]
    },
    {
      "cell_type": "code",
      "execution_count": null,
      "metadata": {
        "colab": {
          "base_uri": "https://localhost:8080/"
        },
        "id": "bcnlkjS06Jpu",
        "outputId": "8db6d040-1117-4224-b033-d91c0c6642ac"
      },
      "outputs": [
        {
          "output_type": "stream",
          "name": "stdout",
          "text": [
            "Drive already mounted at /content/drive; to attempt to forcibly remount, call drive.mount(\"/content/drive\", force_remount=True).\n"
          ]
        }
      ],
      "source": [
        "from google.colab import drive\n",
        "drive.mount ('/content/drive')"
      ]
    },
    {
      "cell_type": "code",
      "source": [
        "import numpy as np\n",
        "import pandas as pd\n",
        "import os\n",
        "import matplotlib.pyplot as plt\n",
        "import seaborn as sns\n",
        "col_pal = sns.color_palette()\n",
        "import random\n",
        "import re\n",
        "from pdfminer.high_level import extract_pages, extract_text\n",
        "import statistics\n",
        "from sklearn.preprocessing import LabelEncoder\n",
        "from tensorflow.keras.preprocessing.text import Tokenizer\n",
        "from tensorflow.keras.preprocessing.sequence import pad_sequences\n",
        "from tensorflow.keras.layers import Embedding, Conv1D, GlobalMaxPooling1D, Dense, Dropout\n",
        "from tensorflow.keras.models import Sequential\n",
        "from sklearn.metrics import accuracy_score\n",
        "import nltk\n",
        "nltk.download('punkt')\n",
        "nltk.download('wordnet')\n",
        "from nltk.corpus import wordnet\n",
        "from collections import defaultdict\n",
        "from nltk.tokenize import word_tokenize"
      ],
      "metadata": {
        "id": "qZghopjF7B2q",
        "colab": {
          "base_uri": "https://localhost:8080/"
        },
        "outputId": "4184cca3-f15f-4ecd-a1a3-05696031086d"
      },
      "execution_count": null,
      "outputs": [
        {
          "output_type": "stream",
          "name": "stderr",
          "text": [
            "[nltk_data] Downloading package punkt to /root/nltk_data...\n",
            "[nltk_data]   Package punkt is already up-to-date!\n",
            "[nltk_data] Downloading package wordnet to /root/nltk_data...\n",
            "[nltk_data]   Package wordnet is already up-to-date!\n"
          ]
        }
      ]
    },
    {
      "cell_type": "code",
      "source": [
        "data_path = '/content/drive/MyDrive/CV for Dissertation/Dataset'\n",
        "\n",
        "data = {'file': [], 'type': []}\n",
        "\n",
        "# Iterate through the directory and its subdirectories\n",
        "for root, dirs, files in os.walk(data_path):\n",
        "    for file in files:\n",
        "        file_path = os.path.join(root, file)\n",
        "        file_type = os.path.basename(root)\n",
        "        data['file'].append(file_path)\n",
        "        data['type'].append(file_type)\n",
        "\n",
        "# Create a DataFrame from the data dictionary\n",
        "data_df = pd.DataFrame(data)\n",
        "\n",
        "# Display the first few rows of the DataFrame\n",
        "print(data_df.head())"
      ],
      "metadata": {
        "colab": {
          "base_uri": "https://localhost:8080/"
        },
        "id": "OcLL6VfZ7Ilb",
        "outputId": "048e3612-42be-4a93-9690-250f8255bbcc"
      },
      "execution_count": null,
      "outputs": [
        {
          "output_type": "stream",
          "name": "stdout",
          "text": [
            "                                                file type\n",
            "0  /content/drive/MyDrive/CV for Dissertation/Dat...   IT\n",
            "1  /content/drive/MyDrive/CV for Dissertation/Dat...   IT\n",
            "2  /content/drive/MyDrive/CV for Dissertation/Dat...   IT\n",
            "3  /content/drive/MyDrive/CV for Dissertation/Dat...   IT\n",
            "4  /content/drive/MyDrive/CV for Dissertation/Dat...   IT\n"
          ]
        }
      ]
    },
    {
      "cell_type": "markdown",
      "source": [
        "#Data Distribution Visualization"
      ],
      "metadata": {
        "id": "YAFbDIAL9TOA"
      }
    },
    {
      "cell_type": "code",
      "source": [
        "occurrence = data_df['type'].value_counts()\n",
        "\n",
        "# Sort the data in ascending order\n",
        "occurrence_sorted = occurrence.sort_values(ascending=False)\n",
        "\n",
        "# Set the style of seaborn\n",
        "sns.set_style(\"whitegrid\")\n",
        "\n",
        "# Create the bar plot\n",
        "plt.figure(figsize=(10, 7))\n",
        "sns.barplot(x = occurrence_sorted.values, y = occurrence_sorted.index)\n",
        "plt.xlabel('Count')\n",
        "plt.ylabel('File Type')\n",
        "plt.title('Count of Each File Type')\n",
        "plt.show()"
      ],
      "metadata": {
        "colab": {
          "base_uri": "https://localhost:8080/",
          "height": 641
        },
        "id": "eOsbWXLT7eMt",
        "outputId": "4f1fd941-365d-41f5-9f1b-e783406c866d"
      },
      "execution_count": null,
      "outputs": [
        {
          "output_type": "display_data",
          "data": {
            "text/plain": [
              "<Figure size 1000x700 with 1 Axes>"
            ],
            "image/png": "[encoded data removed]"
          },
          "metadata": {}
        }
      ]
    },
    {
      "cell_type": "markdown",
      "source": [
        "#Extracting Text from PDF"
      ],
      "metadata": {
        "id": "RksVawNMChgs"
      }
    },
    {
      "cell_type": "code",
      "source": [
        "!pip install pdfminer.six"
      ],
      "metadata": {
        "colab": {
          "base_uri": "https://localhost:8080/"
        },
        "id": "Y6ahoR6T73B_",
        "outputId": "944f6d19-40a6-40cb-ea7f-3b5516cf5ea0"
      },
      "execution_count": null,
      "outputs": [
        {
          "output_type": "stream",
          "name": "stdout",
          "text": [
            "Requirement already satisfied: pdfminer.six in /usr/local/lib/python3.10/dist-packages (20231228)\n",
            "Requirement already satisfied: charset-normalizer>=2.0.0 in /usr/local/lib/python3.10/dist-packages (from pdfminer.six) (3.3.2)\n",
            "Requirement already satisfied: cryptography>=36.0.0 in /usr/local/lib/python3.10/dist-packages (from pdfminer.six) (42.0.7)\n",
            "Requirement already satisfied: cffi>=1.12 in /usr/local/lib/python3.10/dist-packages (from cryptography>=36.0.0->pdfminer.six) (1.16.0)\n",
            "Requirement already satisfied: pycparser in /usr/local/lib/python3.10/dist-packages (from cffi>=1.12->cryptography>=36.0.0->pdfminer.six) (2.22)\n"
          ]
        }
      ]
    },
    {
      "cell_type": "code",
      "source": [
        "# Function to extract text from a single PDF file\n",
        "def extract_text_from_pdf(file_path):\n",
        "    try:\n",
        "        text = extract_text(file_path)\n",
        "        if isinstance(text, str):\n",
        "            return text.replace('\\n', ' ')\n",
        "        else:\n",
        "            return ''  # Return empty string if text is not a string\n",
        "    except Exception as e:\n",
        "        print(f\"Error extracting text from {file_path}: {e}\")\n",
        "        return ''"
      ],
      "metadata": {
        "id": "7L4cJ5A8C-sI"
      },
      "execution_count": null,
      "outputs": []
    },
    {
      "cell_type": "code",
      "source": [
        "# Initialize lists to store extracted text\n",
        "texts_cv = []\n",
        "empty_cv = []"
      ],
      "metadata": {
        "id": "2Y0TfZ2GPaQK"
      },
      "execution_count": null,
      "outputs": []
    },
    {
      "cell_type": "code",
      "source": [
        "# Iterate through each file in the DataFrame\n",
        "for file_path in data_df['file']:\n",
        "    text = extract_text_from_pdf(file_path)\n",
        "    if text:\n",
        "        texts_cv.append(text)\n",
        "    else:\n",
        "        empty_cv.append(file_path)"
      ],
      "metadata": {
        "id": "jYreKVtNPgBq"
      },
      "execution_count": null,
      "outputs": []
    },
    {
      "cell_type": "code",
      "source": [
        "# Convert the list of texts to strings\n",
        "texts_cv_str = [str(text) for text in texts_cv]\n",
        "\n",
        "# Create a DataFrame to store the texts\n",
        "text_data_df = pd.DataFrame({'text': texts_cv_str})\n",
        "\n",
        "# Shuffle the DataFrame\n",
        "shuffled_text_data_df = text_data_df.sample(frac=1).reset_index(drop=True)\n",
        "\n",
        "# Add the file paths to the DataFrame\n",
        "shuffled_text_data_df['file'] = data_df['file']\n",
        "\n",
        "# Access the shuffled texts and file paths\n",
        "shuffled_texts_cv = shuffled_text_data_df['text']\n",
        "shuffled_file_paths = shuffled_text_data_df['file']"
      ],
      "metadata": {
        "id": "UPO0wvojaAov"
      },
      "execution_count": null,
      "outputs": []
    },
    {
      "cell_type": "code",
      "source": [
        "print(shuffled_texts_cv.head())"
      ],
      "metadata": {
        "colab": {
          "base_uri": "https://localhost:8080/"
        },
        "id": "4TFb-AXbaiSK",
        "outputId": "148866d5-6fe2-4f93-eaab-01913cd87daf"
      },
      "execution_count": null,
      "outputs": [
        {
          "output_type": "stream",
          "name": "stdout",
          "text": [
            "0    FINANCE OFFICER Summary Competent and reliable...\n",
            "1    CONSULTANT Experience Consultant  January 2012...\n",
            "2    LEASING CONSULTANT Summary To attain a positio...\n",
            "3    CONSULTANT Executive Profile Over 5 years expe...\n",
            "4    ENGINEERING TECHNICIAN Summary Work as enginee...\n",
            "Name: text, dtype: object\n"
          ]
        }
      ]
    },
    {
      "cell_type": "code",
      "source": [
        "shuffled_texts_cv[0]"
      ],
      "metadata": {
        "colab": {
          "base_uri": "https://localhost:8080/",
          "height": 143
        },
        "id": "5JXVQmkyXsMU",
        "outputId": "57a7c252-1984-4852-bfd7-0d74bcdd410b"
      },
      "execution_count": null,
      "outputs": [
        {
          "output_type": "execute_result",
          "data": {
            "text/plain": [
              "\"FINANCE OFFICER Summary Competent and reliable professional, committed to excellence with proven team leading and team building skills, who sees challenges as an opportunity to grow and develop. Ability to lead a team of people from diverse backgrounds, by communicating clear goals and objectives, and understanding and resolving the needs of the team to ensure that targets are met. Responsible, analytical, results oriented, effective, efficient and flexible work attitude which aims to achieve and surpass set goals. Highly confidential, honest, pro-active individual who operates with integrity in all aspects of life, possessing expertise in Accounting, Supervisory Management and Training skills. Highlights  ACCPAC accounting skills Analytical reasoning Budget analysis Account reconciliations  Accomplishments  Liaised with the BPI Team in investigating and understanding the nature of most of the errors on the Savings & IP Schedules thus enabling me to clear most of the items  Successfully streamlined daily reconciliations in order to identify reconciling items & errors and clear them in a timely manner  Achieved set targets and contributed to the overall attainment of the department and company's goalsTrained staff regarding standard operating procedures  Resolved differences between team members and ensured an atmosphere of unity and respect  Maintained dialog with customers in order to promote the company's sales & to develop a good rapport with the customers  Organize and streamlined the routine procedures for the sales representatives  Ensured that both monthly & annual Returns prepared and submitted a timely manner  Experience Finance Officer  May 2011 to January 2016 Company Name ï¼\\u200b City , State  G/L Reporting & Preparation of Audit Schedules Daily General Ledger postings and accounting journals for: Investigated and put together Savings & Interest Payable Reconciliations to show the aggregate net savings and liabilities position of the organization year to date Staff Loans & Statutory Deductions Investment Accounting Compiled, analyzed and prepared Interest Income, and Price Volume Budget Analysis to assist the Budget Analyst in gaining a comprehensive depiction of the actual interest derived from investments on a monthly and year to date basis in comparison to the budgeted figures Gathered information for Accretion & Amortization Schedules to determine bonds that are tax exempted Accomplishments Liaised with the BPI Team in investigating and understanding the nature of most of the errors on the Savings & IP Schedules thus enabling me to clear most of the items Successfully streamlined daily reconciliations in order to identify reconciling items & errors and clear them in a timely manner.  Payroll Assistant  November 2010 to December 2010 Company Name ï¼\\u200b City , State  Preparation of Bank reconciliations. Accomplishments. Ensured that bank reconciliations were prepared in a timely manner and outstanding items were effectively researched and cleared promptly.  Accounts Officer  January 2007 to January 2009 Company Name ï¼\\u200b City , State  Daily General Ledger postings and accounting journals for bank reconciliations Analyzing and implementing procedures to resolve unreconciled items on assigned bank accounts Prepared scheduled reports with Cash Flow Statements Accomplishments Achieved set targets and contributed to the overall attainment of the department and company's goals.  Supervisor & Senior Accounts Clerk  January 1997 to January 2007 Company Name ï¼\\u200b City , State  Supervised a staff of eleven persons. Regular scheduled inventory updates and reconciliations each month Prepared Payroll for weekly and monthly staff using Turbo Pay software Daily scheduled directives for inventory to deliver island wide Accomplishments Trained staff regarding standard operating procedures Resolved differences between team members and ensured an atmosphere of unity and respect Maintained dialogue with customers in order to promote the company's sales & to develop a good rapport with the customers Organize and streamlined the routine procedures for the sales representatives Ensured that both monthly & annual Returns prepared and submitted a timely manner.  \\x0cEducation Bachelor of Science Degree : Business Administration Finance , 2009 Northern Caribbean University ï¼\\u200b City , JAMAICA  Business Administration Finance  Certificate of Management Studies St. Hugh's High School Sixth form Business Certificate : 2002 University of the West Indies ï¼\\u200b City , JAMAICA W.I. Interests Reading Additional Information  Reading  Skills  Bank reconciliations, Analysis, bonds, Budget Analysis, Cash Flow, General Ledger, inventory, investments, Interest Payable & Savings, Payroll, Schedules, Sales, Customer Service  \\x0c\""
            ],
            "application/vnd.google.colaboratory.intrinsic+json": {
              "type": "string"
            }
          },
          "metadata": {},
          "execution_count": 11
        }
      ]
    },
    {
      "cell_type": "code",
      "source": [
        "len(empty_cv)"
      ],
      "metadata": {
        "colab": {
          "base_uri": "https://localhost:8080/"
        },
        "id": "iWcXHTiFX0J0",
        "outputId": "27045dfd-2d37-4410-96a5-06bd0aa059aa"
      },
      "execution_count": null,
      "outputs": [
        {
          "output_type": "execute_result",
          "data": {
            "text/plain": [
              "0"
            ]
          },
          "metadata": {},
          "execution_count": 12
        }
      ]
    },
    {
      "cell_type": "code",
      "source": [
        "data['text'] = shuffled_texts_cv\n",
        "\n",
        "for key in empty_cv:\n",
        "    data.pop(key, None)"
      ],
      "metadata": {
        "id": "XfHQQlyoX-bQ"
      },
      "execution_count": null,
      "outputs": []
    },
    {
      "cell_type": "markdown",
      "source": [
        "#Exploratory Data Analysis"
      ],
      "metadata": {
        "id": "bYYGLHazYZ7_"
      }
    },
    {
      "cell_type": "code",
      "source": [
        "cv_length=[len(i) for i in shuffled_texts_cv]"
      ],
      "metadata": {
        "id": "sdWt3cXDYCIm"
      },
      "execution_count": null,
      "outputs": []
    },
    {
      "cell_type": "code",
      "source": [
        "plt.hist(cv_length)\n",
        "plt.xlabel('Sentence length')\n",
        "plt.ylabel('Occurrences')\n",
        "plt.title('CV Length')"
      ],
      "metadata": {
        "colab": {
          "base_uri": "https://localhost:8080/",
          "height": 490
        },
        "id": "9r9L_t3sYfmu",
        "outputId": "57b2e0dd-8bb0-4140-b969-ea5ae2d898b0"
      },
      "execution_count": null,
      "outputs": [
        {
          "output_type": "execute_result",
          "data": {
            "text/plain": [
              "Text(0.5, 1.0, 'CV Length')"
            ]
          },
          "metadata": {},
          "execution_count": 15
        },
        {
          "output_type": "display_data",
          "data": {
            "text/plain": [
              "<Figure size 640x480 with 1 Axes>"
            ],
            "image/png": "[encoded data removed]"
          },
          "metadata": {}
        }
      ]
    },
    {
      "cell_type": "code",
      "source": [
        "# Calculate basic statistics\n",
        "mean = statistics.mean(cv_length)  # Mean of CV Length\n",
        "min = min(cv_length)  # Minimum Length\n",
        "max = max(cv_length)  # Maximum Length\n",
        "std = statistics.stdev(cv_length)  # Standard deviation\n",
        "var = statistics.variance(cv_length)  # Variance\n",
        "\n",
        "# Print the results\n",
        "print(\"Mean CV length:\", mean)\n",
        "print(\"Minimum CV length:\", min)\n",
        "print(\"Maximum CV length:\", max)\n",
        "print(\"Standard deviation of CV length:\", std)\n",
        "print(\"Variance of CV length:\", var)\n",
        "\n",
        "# Calculate the number of CVs\n",
        "num_cvs = len(cv_length)\n",
        "print(\"Number of CVs:\", num_cvs)"
      ],
      "metadata": {
        "colab": {
          "base_uri": "https://localhost:8080/"
        },
        "id": "gaM_vZoIsLXp",
        "outputId": "e8133c13-c986-401d-974b-46a1d8dd3ef6"
      },
      "execution_count": null,
      "outputs": [
        {
          "output_type": "stream",
          "name": "stdout",
          "text": [
            "Mean CV length: 6292.743421052632\n",
            "Minimum CV length: 1208\n",
            "Maximum CV length: 21256\n",
            "Standard deviation of CV length: 2553.107173071459\n",
            "Variance of CV length: 6518356.237188936\n",
            "Number of CVs: 608\n"
          ]
        }
      ]
    },
    {
      "cell_type": "code",
      "source": [
        "vocab_size= int(mean + (3 * std)) #Removing outlier\n",
        "vocab_size"
      ],
      "metadata": {
        "colab": {
          "base_uri": "https://localhost:8080/"
        },
        "id": "AzmrM17SYtxn",
        "outputId": "ded6a6ba-a77b-49b2-dbee-70d1cfcc1c34"
      },
      "execution_count": null,
      "outputs": [
        {
          "output_type": "execute_result",
          "data": {
            "text/plain": [
              "13952"
            ]
          },
          "metadata": {},
          "execution_count": 17
        }
      ]
    },
    {
      "cell_type": "markdown",
      "source": [
        "#Data Splitting"
      ],
      "metadata": {
        "id": "g3ChOtibZAf2"
      }
    },
    {
      "cell_type": "code",
      "source": [
        "print(\"Total number of CVs in the original data:\", len(data_df))"
      ],
      "metadata": {
        "colab": {
          "base_uri": "https://localhost:8080/"
        },
        "id": "oqRkTxolzJEd",
        "outputId": "3b74551f-bc25-4259-91b1-93c4caa1d261"
      },
      "execution_count": null,
      "outputs": [
        {
          "output_type": "stream",
          "name": "stdout",
          "text": [
            "Total number of CVs in the original data: 608\n"
          ]
        }
      ]
    },
    {
      "cell_type": "code",
      "source": [
        "# Identify unique labels\n",
        "unique_labels = data_df['type'].unique()\n",
        "\n",
        "# Initialize dictionaries to store indices of samples for each label\n",
        "train_indices = defaultdict(list)\n",
        "test_indices = defaultdict(list)"
      ],
      "metadata": {
        "id": "3rIQA4LRf43q"
      },
      "execution_count": null,
      "outputs": []
    },
    {
      "cell_type": "code",
      "source": [
        "# Randomly split samples for each label into train and test sets\n",
        "for label in unique_labels:\n",
        "    label_indices = np.where(data_df['type'] == label)[0]\n",
        "    np.random.shuffle(label_indices)\n",
        "    split_index = int(0.8 * len(label_indices))\n",
        "    train_indices[label] = label_indices[:split_index]\n",
        "    test_indices[label] = label_indices[split_index:]"
      ],
      "metadata": {
        "id": "4ePVAU4khVFX"
      },
      "execution_count": null,
      "outputs": []
    },
    {
      "cell_type": "code",
      "source": [
        "# Combine indices for all labels into train and test sets\n",
        "train_indices_all = np.concatenate(list(train_indices.values()))\n",
        "test_indices_all = np.concatenate(list(test_indices.values()))\n",
        "\n",
        "# Create train and test sets using the indices\n",
        "X_train = text_data_df['text'][train_indices_all]\n",
        "Y_train = data_df['type'][train_indices_all]\n",
        "X_test = text_data_df['text'][test_indices_all]\n",
        "Y_test = data_df['type'][test_indices_all]"
      ],
      "metadata": {
        "id": "Hhz9hitGhaP8"
      },
      "execution_count": null,
      "outputs": []
    },
    {
      "cell_type": "code",
      "source": [
        "text_data_df = pd.DataFrame({'text': texts_cv_str, 'file': shuffled_file_paths})\n",
        "\n",
        "print(text_data_df.head())\n",
        "\n",
        "# Merge text_data_df with data_df if necessary\n",
        "data_df = pd.merge(data_df, text_data_df, on='file', how='inner')"
      ],
      "metadata": {
        "colab": {
          "base_uri": "https://localhost:8080/"
        },
        "id": "R_CUrYazZJy_",
        "outputId": "acde6eef-e587-43c5-ed5b-7c255aee5bbd"
      },
      "execution_count": null,
      "outputs": [
        {
          "output_type": "stream",
          "name": "stdout",
          "text": [
            "                                                text  \\\n",
            "0  PROJECT MANAGER AND TECHNICAL IMPLEMENTATION C...   \n",
            "1  INFORMATION TECHNOLOGY SPECIALIST (WEB), GS-11...   \n",
            "2  INFORMATION TECHNOLOGY SPECIALIST(DISCOUNTPCFI...   \n",
            "3  INFORMATION TECHNOLOGY INTERN Professional Pro...   \n",
            "4  INFORMATION TECHNOLOGY (IT) SPECIALIST Experie...   \n",
            "\n",
            "                                                file  \n",
            "0  /content/drive/MyDrive/CV for Dissertation/Dat...  \n",
            "1  /content/drive/MyDrive/CV for Dissertation/Dat...  \n",
            "2  /content/drive/MyDrive/CV for Dissertation/Dat...  \n",
            "3  /content/drive/MyDrive/CV for Dissertation/Dat...  \n",
            "4  /content/drive/MyDrive/CV for Dissertation/Dat...  \n"
          ]
        }
      ]
    },
    {
      "cell_type": "code",
      "source": [
        "# Print the sizes of train and test sets\n",
        "print(\"Size of training set:\", len(X_train))\n",
        "print(\"Size of testing set:\", len(X_test))"
      ],
      "metadata": {
        "colab": {
          "base_uri": "https://localhost:8080/"
        },
        "id": "R5uS5tEtheh4",
        "outputId": "135430ca-4eba-4eec-e15e-ead0bc8de62a"
      },
      "execution_count": null,
      "outputs": [
        {
          "output_type": "stream",
          "name": "stdout",
          "text": [
            "Size of training set: 484\n",
            "Size of testing set: 124\n"
          ]
        }
      ]
    },
    {
      "cell_type": "code",
      "source": [
        "# Get unique labels for train and test data\n",
        "unique_labels_train = data_df.loc[train_indices_all, 'type'].unique()\n",
        "unique_labels_test = data_df.loc[test_indices_all, 'type'].unique()\n",
        "\n",
        "# Print unique labels for train and test data\n",
        "print(\"Unique labels in train data:\", unique_labels_train)\n",
        "print(\"Unique labels in test data:\", unique_labels_test)"
      ],
      "metadata": {
        "colab": {
          "base_uri": "https://localhost:8080/"
        },
        "id": "BWYcQY_q-j_y",
        "outputId": "1fa5a93a-c09c-4e0e-c4e6-a1ac1a3a578a"
      },
      "execution_count": null,
      "outputs": [
        {
          "output_type": "stream",
          "name": "stdout",
          "text": [
            "Unique labels in train data: ['IT' 'Banking' 'Consulting' 'Analytics' 'Automobile' 'Engineering'\n",
            " 'Finance']\n",
            "Unique labels in test data: ['IT' 'Banking' 'Consulting' 'Analytics' 'Automobile' 'Engineering'\n",
            " 'Finance']\n"
          ]
        }
      ]
    },
    {
      "cell_type": "code",
      "source": [
        "print(data_df.columns)"
      ],
      "metadata": {
        "colab": {
          "base_uri": "https://localhost:8080/"
        },
        "id": "e6ZWeucl0HcS",
        "outputId": "ebfb80ef-217c-4f93-9158-e987f9e9e5ed"
      },
      "execution_count": null,
      "outputs": [
        {
          "output_type": "stream",
          "name": "stdout",
          "text": [
            "Index(['file', 'type', 'text'], dtype='object')\n"
          ]
        }
      ]
    },
    {
      "cell_type": "code",
      "source": [
        "# Display the first few rows of your DataFrame\n",
        "print(data_df.head())"
      ],
      "metadata": {
        "colab": {
          "base_uri": "https://localhost:8080/"
        },
        "id": "JGcUFNZGikqT",
        "outputId": "9b3fc18b-b149-4366-ab2a-6d47cc3b21f0"
      },
      "execution_count": null,
      "outputs": [
        {
          "output_type": "stream",
          "name": "stdout",
          "text": [
            "                                                file type  \\\n",
            "0  /content/drive/MyDrive/CV for Dissertation/Dat...   IT   \n",
            "1  /content/drive/MyDrive/CV for Dissertation/Dat...   IT   \n",
            "2  /content/drive/MyDrive/CV for Dissertation/Dat...   IT   \n",
            "3  /content/drive/MyDrive/CV for Dissertation/Dat...   IT   \n",
            "4  /content/drive/MyDrive/CV for Dissertation/Dat...   IT   \n",
            "\n",
            "                                                text  \n",
            "0  PROJECT MANAGER AND TECHNICAL IMPLEMENTATION C...  \n",
            "1  INFORMATION TECHNOLOGY SPECIALIST (WEB), GS-11...  \n",
            "2  INFORMATION TECHNOLOGY SPECIALIST(DISCOUNTPCFI...  \n",
            "3  INFORMATION TECHNOLOGY INTERN Professional Pro...  \n",
            "4  INFORMATION TECHNOLOGY (IT) SPECIALIST Experie...  \n"
          ]
        }
      ]
    },
    {
      "cell_type": "markdown",
      "source": [
        "#Convolutional Neural Network (CNN) for Text Classification"
      ],
      "metadata": {
        "id": "A_OIsHM53aAp"
      }
    },
    {
      "cell_type": "code",
      "source": [
        "# Tokenization\n",
        "tokenizer = Tokenizer()\n",
        "tokenizer.fit_on_texts(X_train)"
      ],
      "metadata": {
        "id": "Zuz5lBwujY-L"
      },
      "execution_count": null,
      "outputs": []
    },
    {
      "cell_type": "code",
      "source": [
        "# Convert text data to sequences\n",
        "X_train_seq = tokenizer.texts_to_sequences(X_train)\n",
        "X_test_seq = tokenizer.texts_to_sequences(X_test)"
      ],
      "metadata": {
        "id": "plS4EWsyjh39"
      },
      "execution_count": null,
      "outputs": []
    },
    {
      "cell_type": "code",
      "source": [
        "# Define the desired minimum and maximum sequence lengths\n",
        "min_len = 1208  # Minimum CV length\n",
        "max_len = 21256  # Maximum CV length\n",
        "\n",
        "# Padding sequences to ensure uniform length\n",
        "X_train_pad = pad_sequences(X_train_seq, maxlen=max_len, padding='post', truncating='post')\n",
        "X_test_pad = pad_sequences(X_test_seq, maxlen=max_len, padding='post', truncating='post')"
      ],
      "metadata": {
        "id": "bj0sjgqijmPz"
      },
      "execution_count": null,
      "outputs": []
    },
    {
      "cell_type": "code",
      "source": [
        "# Initialize LabelEncoder\n",
        "label_encoder = LabelEncoder()\n",
        "\n",
        "# Fit and transform labels in the training set\n",
        "Y_train_encoded = label_encoder.fit_transform(Y_train)\n",
        "\n",
        "# Transform labels in the testing set\n",
        "Y_test_encoded = label_encoder.transform(Y_test)"
      ],
      "metadata": {
        "id": "TK5IegcOjs0u"
      },
      "execution_count": null,
      "outputs": []
    },
    {
      "cell_type": "code",
      "source": [
        "from tensorflow.keras.models import Sequential\n",
        "from tensorflow.keras.layers import Embedding, Conv1D, GlobalMaxPooling1D, Dense, Dropout\n",
        "\n",
        "# Define the vocabulary size\n",
        "vocab_size = len(tokenizer.word_index) + 1\n",
        "\n",
        "# Define the embedding dimension\n",
        "embedding_dim = 200\n",
        "\n",
        "# Define the CNN model\n",
        "model = Sequential()\n",
        "\n",
        "# Add an Embedding layer\n",
        "model.add(Embedding(input_dim=vocab_size, output_dim=embedding_dim, input_length=max_len))\n",
        "\n",
        "# Add a 1D convolutional layer\n",
        "filters = 128\n",
        "kernel_size = 5\n",
        "model.add(Conv1D(filters=filters, kernel_size=kernel_size, activation='relu'))\n",
        "\n",
        "# Add global max pooling layer\n",
        "model.add(GlobalMaxPooling1D())\n",
        "\n",
        "# Add a Dense layer\n",
        "hidden_units = 64\n",
        "model.add(Dense(hidden_units, activation='relu'))\n",
        "\n",
        "# Add a dropout layer for regularization\n",
        "dropout_rate = 0.2\n",
        "model.add(Dropout(rate=dropout_rate))\n",
        "\n",
        "# Output layer\n",
        "num_classes = len(np.unique(Y_train))  # Number of unique classes\n",
        "model.add(Dense(num_classes, activation='softmax'))\n",
        "\n",
        "# Compile the model\n",
        "model.compile(optimizer='adam', loss='sparse_categorical_crossentropy', metrics=['accuracy'])\n",
        "\n",
        "# Print the model summary\n",
        "model.summary()"
      ],
      "metadata": {
        "colab": {
          "base_uri": "https://localhost:8080/"
        },
        "id": "TvE02U-kj1z0",
        "outputId": "321364b7-ccd4-4e91-e55a-8827cb59098d"
      },
      "execution_count": null,
      "outputs": [
        {
          "output_type": "stream",
          "name": "stdout",
          "text": [
            "Model: \"sequential\"\n",
            "_________________________________________________________________\n",
            " Layer (type)                Output Shape              Param #   \n",
            "=================================================================\n",
            " embedding (Embedding)       (None, 21256, 200)        3793800   \n",
            "                                                                 \n",
            " conv1d (Conv1D)             (None, 21252, 128)        128128    \n",
            "                                                                 \n",
            " global_max_pooling1d (Glob  (None, 128)               0         \n",
            " alMaxPooling1D)                                                 \n",
            "                                                                 \n",
            " dense (Dense)               (None, 64)                8256      \n",
            "                                                                 \n",
            " dropout (Dropout)           (None, 64)                0         \n",
            "                                                                 \n",
            " dense_1 (Dense)             (None, 7)                 455       \n",
            "                                                                 \n",
            "=================================================================\n",
            "Total params: 3930639 (14.99 MB)\n",
            "Trainable params: 3930639 (14.99 MB)\n",
            "Non-trainable params: 0 (0.00 Byte)\n",
            "_________________________________________________________________\n"
          ]
        }
      ]
    },
    {
      "cell_type": "code",
      "source": [
        "# Train the model\n",
        "history = model.fit(X_train_pad, Y_train_encoded, epochs=10, batch_size=32, validation_split=0.2)"
      ],
      "metadata": {
        "colab": {
          "base_uri": "https://localhost:8080/"
        },
        "id": "MN8xxLCfoqyR",
        "outputId": "afdebb6f-6e39-4dc2-c6f4-7a57614c584d"
      },
      "execution_count": null,
      "outputs": [
        {
          "output_type": "stream",
          "name": "stdout",
          "text": [
            "Epoch 1/10\n",
            "13/13 [==============================] - 12s 448ms/step - loss: 1.8884 - accuracy: 0.1783 - val_loss: 2.4067 - val_accuracy: 0.0206\n",
            "Epoch 2/10\n",
            "13/13 [==============================] - 4s 290ms/step - loss: 1.6352 - accuracy: 0.4134 - val_loss: 3.0563 - val_accuracy: 0.0206\n",
            "Epoch 3/10\n",
            "13/13 [==============================] - 4s 299ms/step - loss: 1.4510 - accuracy: 0.6072 - val_loss: 3.6346 - val_accuracy: 0.0206\n",
            "Epoch 4/10\n",
            "13/13 [==============================] - 5s 378ms/step - loss: 1.2954 - accuracy: 0.6796 - val_loss: 3.9182 - val_accuracy: 0.0206\n",
            "Epoch 5/10\n",
            "13/13 [==============================] - 4s 325ms/step - loss: 1.0577 - accuracy: 0.7881 - val_loss: 4.0514 - val_accuracy: 0.0309\n",
            "Epoch 6/10\n",
            "13/13 [==============================] - 4s 301ms/step - loss: 0.7536 - accuracy: 0.8811 - val_loss: 4.2681 - val_accuracy: 0.0309\n",
            "Epoch 7/10\n",
            "13/13 [==============================] - 4s 331ms/step - loss: 0.5028 - accuracy: 0.8941 - val_loss: 4.6805 - val_accuracy: 0.0206\n",
            "Epoch 8/10\n",
            "13/13 [==============================] - 5s 363ms/step - loss: 0.3422 - accuracy: 0.9225 - val_loss: 4.9995 - val_accuracy: 0.0206\n",
            "Epoch 9/10\n",
            "13/13 [==============================] - 4s 326ms/step - loss: 0.2364 - accuracy: 0.9664 - val_loss: 5.4147 - val_accuracy: 0.0309\n",
            "Epoch 10/10\n",
            "13/13 [==============================] - 4s 290ms/step - loss: 0.1606 - accuracy: 0.9819 - val_loss: 5.6305 - val_accuracy: 0.0206\n"
          ]
        }
      ]
    },
    {
      "cell_type": "code",
      "source": [
        "# Evaluate the model on the testing data\n",
        "test_loss, test_accuracy = model.evaluate(X_test_pad, Y_test_encoded)\n",
        "\n",
        "# Print the test loss and accuracy\n",
        "print(\"Test Loss:\", test_loss)\n",
        "print(\"Test Accuracy:\", test_accuracy)\n"
      ],
      "metadata": {
        "colab": {
          "base_uri": "https://localhost:8080/"
        },
        "id": "AawpPcB0_BYu",
        "outputId": "19d03997-ea73-4cb7-e02f-8d20b52bdfc5"
      },
      "execution_count": null,
      "outputs": [
        {
          "output_type": "stream",
          "name": "stdout",
          "text": [
            "4/4 [==============================] - 1s 394ms/step - loss: 1.6886 - accuracy: 0.6452\n",
            "Test Loss: 1.6885665655136108\n",
            "Test Accuracy: 0.6451612710952759\n"
          ]
        }
      ]
    },
    {
      "cell_type": "code",
      "source": [
        "# Create a figure with two subplots\n",
        "fig, axes = plt.subplots(1, 2, figsize=(9, 3))\n",
        "\n",
        "# Plot training loss values\n",
        "axes[0].plot(history.history['loss'])\n",
        "axes[0].set_title('Model Loss')\n",
        "axes[0].set_ylabel('Loss')\n",
        "axes[0].set_xlabel('Epoch')\n",
        "axes[0].legend(['Train'], loc='upper right')\n",
        "\n",
        "# Plot training accuracy values\n",
        "axes[1].plot(history.history['accuracy'])\n",
        "axes[1].set_title('Model Accuracy')\n",
        "axes[1].set_ylabel('Accuracy')\n",
        "axes[1].set_xlabel('Epoch')\n",
        "axes[1].legend(['Train'], loc='lower right')\n",
        "\n",
        "# Adjust layout\n",
        "plt.tight_layout()\n",
        "\n",
        "# Show the plot\n",
        "plt.show()"
      ],
      "metadata": {
        "colab": {
          "base_uri": "https://localhost:8080/",
          "height": 307
        },
        "id": "64ape-o54JXd",
        "outputId": "e9f94f36-2248-49e6-a89d-9a8e37685e8c"
      },
      "execution_count": null,
      "outputs": [
        {
          "output_type": "display_data",
          "data": {
            "text/plain": [
              "<Figure size 900x300 with 2 Axes>"
            ],
            "image/png": "[encoded data removed]"
          },
          "metadata": {}
        }
      ]
    },
    {
      "cell_type": "code",
      "source": [
        "# Predictions on the test set\n",
        "predictions = model.predict(X_test_pad)\n",
        "\n",
        "# Convert predictions from probabilities to class labels\n",
        "predicted_labels = np.argmax(predictions, axis=1)\n",
        "\n",
        "# Convert encoded labels back to original labels\n",
        "predicted_labels = label_encoder.inverse_transform(predicted_labels)\n",
        "\n",
        "# Create a DataFrame to compare actual vs. predicted labels\n",
        "results_df = pd.DataFrame({'Actual_Labels': Y_test, 'Predicted_Labels': predicted_labels})\n",
        "\n",
        "print(\"Actual vs. Predicted after CNN:\")\n",
        "print(results_df.sample(10))"
      ],
      "metadata": {
        "colab": {
          "base_uri": "https://localhost:8080/"
        },
        "id": "LQl29As4JhMK",
        "outputId": "7afef787-0c24-469a-cefc-0a2c0d39ddf1"
      },
      "execution_count": null,
      "outputs": [
        {
          "output_type": "stream",
          "name": "stdout",
          "text": [
            "4/4 [==============================] - 0s 86ms/step\n",
            "Actual vs. Predicted after CNN:\n",
            "    Actual_Labels Predicted_Labels\n",
            "271    Consulting       Consulting\n",
            "137       Banking          Banking\n",
            "300    Consulting       Consulting\n",
            "531       Finance       Consulting\n",
            "385   Engineering      Engineering\n",
            "3              IT               IT\n",
            "527       Finance       Consulting\n",
            "546       Finance          Banking\n",
            "478   Engineering      Engineering\n",
            "486   Engineering      Engineering\n"
          ]
        }
      ]
    },
    {
      "cell_type": "markdown",
      "source": [
        "#Text Augmentation"
      ],
      "metadata": {
        "id": "a1nzLS16A7Sw"
      }
    },
    {
      "cell_type": "markdown",
      "source": [
        "#Synonym Replacement"
      ],
      "metadata": {
        "id": "-HhPqvLH7FLH"
      }
    },
    {
      "cell_type": "code",
      "source": [
        "# Function to perform synonym replacement\n",
        "def synonym_replacement(sentence, n=1):\n",
        "    words = nltk.word_tokenize(sentence)\n",
        "    new_sentence = sentence\n",
        "    for _ in range(n):\n",
        "        for i in range(len(words)):\n",
        "            syns = wordnet.synsets(words[i])\n",
        "            if syns:\n",
        "                synonyms = [lemma.name().replace('_', ' ') for lemma in syns[0].lemmas()]\n",
        "                if synonyms:\n",
        "                    new_word = random.choice(synonyms)  # Choose a random synonym\n",
        "                    words[i] = new_word\n",
        "                    new_sentence = ' '.join(words)\n",
        "                    break\n",
        "    return new_sentence"
      ],
      "metadata": {
        "id": "bt_tL07c6cLX"
      },
      "execution_count": null,
      "outputs": []
    },
    {
      "cell_type": "code",
      "source": [
        "# Define a function to perform synonym replacement on a single text sample\n",
        "def augment_text(text):\n",
        "    return synonym_replacement(text)\n",
        "\n",
        "# Group text samples by label\n",
        "grouped_data = defaultdict(list)\n",
        "for label, text in zip(data_df['type'], data_df['text']):\n",
        "    grouped_data[label].append(text)\n",
        "\n",
        "# Apply synonym replacement to each group of text samples\n",
        "augmented_texts = []\n",
        "for label, texts in grouped_data.items():\n",
        "    augmented_group = [augment_text(text) for text in texts]\n",
        "    augmented_texts.extend(augmented_group)\n",
        "\n",
        "# Add the augmented text back to the DataFrame\n",
        "data_df['augmented_text'] = augmented_texts"
      ],
      "metadata": {
        "id": "wUyrXf597a-b"
      },
      "execution_count": null,
      "outputs": []
    },
    {
      "cell_type": "code",
      "source": [
        "vocab_size = len(tokenizer.word_index) + 1\n",
        "embedding_dim = 200\n",
        "model = Sequential()\n",
        "\n",
        "model.add(Embedding(input_dim=vocab_size, output_dim=embedding_dim, input_length=max_len))\n",
        "filters = 128\n",
        "kernel_size = 5\n",
        "model.add(Conv1D(filters=filters, kernel_size=kernel_size, activation='relu'))\n",
        "\n",
        "model.add(GlobalMaxPooling1D())\n",
        "\n",
        "hidden_units = 64\n",
        "model.add(Dense(hidden_units, activation='relu'))\n",
        "\n",
        "dropout_rate = 0.2\n",
        "model.add(Dropout(rate=dropout_rate))\n",
        "\n",
        "num_classes = len(np.unique(Y_train))\n",
        "model.add(Dense(num_classes, activation='softmax'))\n",
        "\n",
        "model.compile(optimizer='adam', loss='sparse_categorical_crossentropy', metrics=['accuracy'])\n",
        "\n",
        "model.summary()"
      ],
      "metadata": {
        "colab": {
          "base_uri": "https://localhost:8080/"
        },
        "id": "afZgcgqg914s",
        "outputId": "2a96a76a-c2cd-434d-b413-fddc9a8b0bb6"
      },
      "execution_count": null,
      "outputs": [
        {
          "output_type": "stream",
          "name": "stdout",
          "text": [
            "Model: \"sequential_1\"\n",
            "_________________________________________________________________\n",
            " Layer (type)                Output Shape              Param #   \n",
            "=================================================================\n",
            " embedding_1 (Embedding)     (None, 21256, 200)        3793800   \n",
            "                                                                 \n",
            " conv1d_1 (Conv1D)           (None, 21252, 128)        128128    \n",
            "                                                                 \n",
            " global_max_pooling1d_1 (Gl  (None, 128)               0         \n",
            " obalMaxPooling1D)                                               \n",
            "                                                                 \n",
            " dense_2 (Dense)             (None, 64)                8256      \n",
            "                                                                 \n",
            " dropout_1 (Dropout)         (None, 64)                0         \n",
            "                                                                 \n",
            " dense_3 (Dense)             (None, 7)                 455       \n",
            "                                                                 \n",
            "=================================================================\n",
            "Total params: 3930639 (14.99 MB)\n",
            "Trainable params: 3930639 (14.99 MB)\n",
            "Non-trainable params: 0 (0.00 Byte)\n",
            "_________________________________________________________________\n"
          ]
        }
      ]
    },
    {
      "cell_type": "code",
      "source": [
        "# Train the model\n",
        "history = model.fit(X_train_pad, Y_train_encoded, epochs=10, batch_size=32, validation_split=0.2)"
      ],
      "metadata": {
        "colab": {
          "base_uri": "https://localhost:8080/"
        },
        "id": "XPXXfyt191w1",
        "outputId": "a32d56e4-5d30-4482-dbc6-79f12248f575"
      },
      "execution_count": null,
      "outputs": [
        {
          "output_type": "stream",
          "name": "stdout",
          "text": [
            "Epoch 1/10\n",
            "13/13 [==============================] - 5s 311ms/step - loss: 1.8960 - accuracy: 0.1886 - val_loss: 2.4216 - val_accuracy: 0.0000e+00\n",
            "Epoch 2/10\n",
            "13/13 [==============================] - 4s 297ms/step - loss: 1.7071 - accuracy: 0.3049 - val_loss: 3.1048 - val_accuracy: 0.0000e+00\n",
            "Epoch 3/10\n",
            "13/13 [==============================] - 5s 398ms/step - loss: 1.5288 - accuracy: 0.5013 - val_loss: 3.6726 - val_accuracy: 0.0206\n",
            "Epoch 4/10\n",
            "13/13 [==============================] - 4s 313ms/step - loss: 1.3673 - accuracy: 0.5633 - val_loss: 4.0243 - val_accuracy: 0.0206\n",
            "Epoch 5/10\n",
            "13/13 [==============================] - 4s 313ms/step - loss: 1.1406 - accuracy: 0.6822 - val_loss: 4.4399 - val_accuracy: 0.0309\n",
            "Epoch 6/10\n",
            "13/13 [==============================] - 5s 388ms/step - loss: 0.8944 - accuracy: 0.7390 - val_loss: 4.9354 - val_accuracy: 0.0309\n",
            "Epoch 7/10\n",
            "13/13 [==============================] - 4s 300ms/step - loss: 0.6453 - accuracy: 0.8372 - val_loss: 5.4007 - val_accuracy: 0.0309\n",
            "Epoch 8/10\n",
            "13/13 [==============================] - 4s 309ms/step - loss: 0.4724 - accuracy: 0.8915 - val_loss: 5.6983 - val_accuracy: 0.0309\n",
            "Epoch 9/10\n",
            "13/13 [==============================] - 4s 344ms/step - loss: 0.3255 - accuracy: 0.9199 - val_loss: 5.9766 - val_accuracy: 0.0309\n",
            "Epoch 10/10\n",
            "13/13 [==============================] - 4s 320ms/step - loss: 0.2047 - accuracy: 0.9612 - val_loss: 6.5700 - val_accuracy: 0.0309\n"
          ]
        }
      ]
    },
    {
      "cell_type": "code",
      "source": [
        "test_loss, test_accuracy = model.evaluate(X_test_pad, Y_test_encoded)\n",
        "\n",
        "print(\"Synonym Replacement Loss:\", test_loss)\n",
        "print(\"Synonym Replacement Accuracy:\", test_accuracy)"
      ],
      "metadata": {
        "colab": {
          "base_uri": "https://localhost:8080/"
        },
        "id": "FTWCpvMn91l8",
        "outputId": "998fd995-ade8-42df-d4f3-b1e12a9513a5"
      },
      "execution_count": null,
      "outputs": [
        {
          "output_type": "stream",
          "name": "stdout",
          "text": [
            "4/4 [==============================] - 0s 80ms/step - loss: 1.9019 - accuracy: 0.6129\n",
            "Synonym Replacement Loss: 1.9019073247909546\n",
            "Synonym Replacement Accuracy: 0.6129032373428345\n"
          ]
        }
      ]
    },
    {
      "cell_type": "code",
      "source": [
        "# Create a figure with two subplots\n",
        "fig, axes = plt.subplots(1, 2, figsize=(9, 3))\n",
        "\n",
        "# Plot training loss values\n",
        "axes[0].plot(history.history['loss'])\n",
        "axes[0].set_title('Synonym Replacement Loss')\n",
        "axes[0].set_ylabel('Loss')\n",
        "axes[0].set_xlabel('Epoch')\n",
        "axes[0].legend(['Train'], loc='upper right')\n",
        "\n",
        "# Plot training accuracy values\n",
        "axes[1].plot(history.history['accuracy'])\n",
        "axes[1].set_title('Synonym Replacement Accuracy')\n",
        "axes[1].set_ylabel('Accuracy')\n",
        "axes[1].set_xlabel('Epoch')\n",
        "axes[1].legend(['Train'], loc='lower right')\n",
        "\n",
        "# Adjust layout\n",
        "plt.tight_layout()\n",
        "\n",
        "# Show the plot\n",
        "plt.show()"
      ],
      "metadata": {
        "colab": {
          "base_uri": "https://localhost:8080/",
          "height": 307
        },
        "id": "GNqnp47I8w1X",
        "outputId": "13e50a8d-26dc-4734-fb36-f7bc61adc198"
      },
      "execution_count": null,
      "outputs": [
        {
          "output_type": "display_data",
          "data": {
            "text/plain": [
              "<Figure size 900x300 with 2 Axes>"
            ],
            "image/png": "[encoded data removed]"
          },
          "metadata": {}
        }
      ]
    },
    {
      "cell_type": "code",
      "source": [
        "# Predictions on the test set\n",
        "predictions = model.predict(X_test_pad)\n",
        "\n",
        "# Convert predictions from probabilities to class labels\n",
        "predicted_labels = np.argmax(predictions, axis=1)\n",
        "\n",
        "# Convert encoded labels back to original labels\n",
        "predicted_labels = label_encoder.inverse_transform(predicted_labels)\n",
        "\n",
        "# Create a DataFrame to compare actual vs. predicted labels\n",
        "results_df = pd.DataFrame({'Actual_Labels': Y_test, 'Predicted_Labels': predicted_labels})\n",
        "\n",
        "print(\"Actual vs. Predicted after Synonym Replacement:\")\n",
        "print(results_df.sample(10))"
      ],
      "metadata": {
        "colab": {
          "base_uri": "https://localhost:8080/"
        },
        "id": "xV34VwvwSU_w",
        "outputId": "ab86147c-c815-4b77-9174-d1f038fac081"
      },
      "execution_count": null,
      "outputs": [
        {
          "output_type": "stream",
          "name": "stdout",
          "text": [
            "4/4 [==============================] - 0s 76ms/step\n",
            "Actual vs. Predicted after Synonym Replacement:\n",
            "    Actual_Labels Predicted_Labels\n",
            "347    Automobile      Engineering\n",
            "526       Finance          Banking\n",
            "106       Banking          Banking\n",
            "495       Finance          Banking\n",
            "13             IT       Consulting\n",
            "448   Engineering      Engineering\n",
            "485   Engineering      Engineering\n",
            "564       Finance      Engineering\n",
            "472   Engineering      Engineering\n",
            "480   Engineering      Engineering\n"
          ]
        }
      ]
    },
    {
      "cell_type": "markdown",
      "source": [
        "#Random Insertion"
      ],
      "metadata": {
        "id": "vh0N8ZnR8s3P"
      }
    },
    {
      "cell_type": "code",
      "source": [
        "import random\n",
        "from nltk.tokenize import word_tokenize\n",
        "\n",
        "# Define the augmentation method\n",
        "def augment_text_random_insertion(text):\n",
        "    # Tokenize the text into words\n",
        "    words = word_tokenize(text)\n",
        "\n",
        "    # Randomly select a position to insert a word\n",
        "    insert_idx = random.randint(0, len(words))\n",
        "\n",
        "    # Insert a random word at the selected position\n",
        "    random_word = \"randomword\"\n",
        "    words.insert(insert_idx, random_word)\n",
        "\n",
        "    # Concatenate the words back into a single string\n",
        "    augmented_text = \" \".join(words)\n",
        "\n",
        "    return augmented_text\n",
        "\n",
        "# Group text samples by label\n",
        "grouped_data = defaultdict(list)\n",
        "for label, text in zip(data_df['type'], data_df['text']):\n",
        "    grouped_data[label].append(text)\n",
        "\n",
        "# Apply random insertion to each group of text samples\n",
        "augmented_texts = []\n",
        "for label, texts in grouped_data.items():\n",
        "    augmented_group = [augment_text_random_insertion(text) for text in texts]\n",
        "    augmented_texts.extend(augmented_group)\n",
        "\n",
        "# Add the augmented text back to the DataFrame\n",
        "data_df['augmented_text_random_insertion'] = augmented_texts"
      ],
      "metadata": {
        "id": "ck6o7YaJ8pz5"
      },
      "execution_count": null,
      "outputs": []
    },
    {
      "cell_type": "code",
      "source": [
        "vocab_size = len(tokenizer.word_index) + 1\n",
        "embedding_dim = 200\n",
        "model = Sequential()\n",
        "model.add(Embedding(input_dim=vocab_size, output_dim=embedding_dim, input_length=max_len))\n",
        "filters = 128\n",
        "kernel_size = 5\n",
        "model.add(Conv1D(filters=filters, kernel_size=kernel_size, activation='relu'))\n",
        "model.add(GlobalMaxPooling1D())\n",
        "hidden_units = 64\n",
        "model.add(Dense(hidden_units, activation='relu'))\n",
        "dropout_rate = 0.2\n",
        "model.add(Dropout(rate=dropout_rate))\n",
        "num_classes = len(np.unique(Y_train))\n",
        "model.add(Dense(num_classes, activation='softmax'))\n",
        "model.compile(optimizer='adam', loss='sparse_categorical_crossentropy', metrics=['accuracy'])\n",
        "model.summary()"
      ],
      "metadata": {
        "colab": {
          "base_uri": "https://localhost:8080/"
        },
        "id": "fN_0KA6p_kn7",
        "outputId": "4d893dc4-9815-4444-db8b-ffa933b7c35a"
      },
      "execution_count": null,
      "outputs": [
        {
          "output_type": "stream",
          "name": "stdout",
          "text": [
            "Model: \"sequential_2\"\n",
            "_________________________________________________________________\n",
            " Layer (type)                Output Shape              Param #   \n",
            "=================================================================\n",
            " embedding_2 (Embedding)     (None, 21256, 200)        3793800   \n",
            "                                                                 \n",
            " conv1d_2 (Conv1D)           (None, 21252, 128)        128128    \n",
            "                                                                 \n",
            " global_max_pooling1d_2 (Gl  (None, 128)               0         \n",
            " obalMaxPooling1D)                                               \n",
            "                                                                 \n",
            " dense_4 (Dense)             (None, 64)                8256      \n",
            "                                                                 \n",
            " dropout_2 (Dropout)         (None, 64)                0         \n",
            "                                                                 \n",
            " dense_5 (Dense)             (None, 7)                 455       \n",
            "                                                                 \n",
            "=================================================================\n",
            "Total params: 3930639 (14.99 MB)\n",
            "Trainable params: 3930639 (14.99 MB)\n",
            "Non-trainable params: 0 (0.00 Byte)\n",
            "_________________________________________________________________\n"
          ]
        }
      ]
    },
    {
      "cell_type": "code",
      "source": [
        "# Train the model\n",
        "history = model.fit(X_train_pad, Y_train_encoded, epochs=10, batch_size=32, validation_split=0.2)"
      ],
      "metadata": {
        "colab": {
          "base_uri": "https://localhost:8080/"
        },
        "id": "pHUYRxms_4TD",
        "outputId": "d4a964c1-f7a7-4f12-c4ed-50d69269a979"
      },
      "execution_count": null,
      "outputs": [
        {
          "output_type": "stream",
          "name": "stdout",
          "text": [
            "Epoch 1/10\n",
            "13/13 [==============================] - 6s 372ms/step - loss: 1.8847 - accuracy: 0.1912 - val_loss: 2.4811 - val_accuracy: 0.0309\n",
            "Epoch 2/10\n",
            "13/13 [==============================] - 5s 341ms/step - loss: 1.6576 - accuracy: 0.4109 - val_loss: 3.1735 - val_accuracy: 0.0206\n",
            "Epoch 3/10\n",
            "13/13 [==============================] - 4s 320ms/step - loss: 1.4775 - accuracy: 0.6098 - val_loss: 3.7490 - val_accuracy: 0.0309\n",
            "Epoch 4/10\n",
            "13/13 [==============================] - 4s 314ms/step - loss: 1.3088 - accuracy: 0.6925 - val_loss: 3.9503 - val_accuracy: 0.0309\n",
            "Epoch 5/10\n",
            "13/13 [==============================] - 6s 507ms/step - loss: 1.0650 - accuracy: 0.8501 - val_loss: 4.1105 - val_accuracy: 0.0309\n",
            "Epoch 6/10\n",
            "13/13 [==============================] - 5s 386ms/step - loss: 0.7779 - accuracy: 0.8605 - val_loss: 4.2909 - val_accuracy: 0.0309\n",
            "Epoch 7/10\n",
            "13/13 [==============================] - 5s 372ms/step - loss: 0.5220 - accuracy: 0.8992 - val_loss: 4.5021 - val_accuracy: 0.0309\n",
            "Epoch 8/10\n",
            "13/13 [==============================] - 5s 359ms/step - loss: 0.3598 - accuracy: 0.9147 - val_loss: 4.7383 - val_accuracy: 0.0309\n",
            "Epoch 9/10\n",
            "13/13 [==============================] - 4s 331ms/step - loss: 0.2368 - accuracy: 0.9587 - val_loss: 4.9209 - val_accuracy: 0.0309\n",
            "Epoch 10/10\n",
            "13/13 [==============================] - 7s 542ms/step - loss: 0.1575 - accuracy: 0.9871 - val_loss: 5.1861 - val_accuracy: 0.0309\n"
          ]
        }
      ]
    },
    {
      "cell_type": "code",
      "source": [
        "# Evaluate the model on the testing data\n",
        "test_loss, test_accuracy = model.evaluate(X_test_pad, Y_test_encoded)\n",
        "\n",
        "# Print the test loss and accuracy\n",
        "print(\"Random Insertion Loss:\", test_loss)\n",
        "print(\"Random Insertion Accuracy:\", test_accuracy)"
      ],
      "metadata": {
        "colab": {
          "base_uri": "https://localhost:8080/"
        },
        "id": "QxjFi8nwAFU6",
        "outputId": "6998918f-2a62-411d-fc4f-e8964ddb2e7f"
      },
      "execution_count": null,
      "outputs": [
        {
          "output_type": "stream",
          "name": "stdout",
          "text": [
            "4/4 [==============================] - 0s 76ms/step - loss: 1.8699 - accuracy: 0.5403\n",
            "Random Insertion Loss: 1.8699427843093872\n",
            "Random Insertion Accuracy: 0.5403226017951965\n"
          ]
        }
      ]
    },
    {
      "cell_type": "code",
      "source": [
        "# Create a figure with two subplots\n",
        "fig, axes = plt.subplots(1, 2, figsize=(9, 3))\n",
        "\n",
        "# Plot training loss values\n",
        "axes[0].plot(history.history['loss'])\n",
        "axes[0].set_title('Random Insertion Loss')\n",
        "axes[0].set_ylabel('Loss')\n",
        "axes[0].set_xlabel('Epoch')\n",
        "axes[0].legend(['Train'], loc='upper right')\n",
        "\n",
        "# Plot training accuracy values\n",
        "axes[1].plot(history.history['accuracy'])\n",
        "axes[1].set_title('Random Insertion Accuracy')\n",
        "axes[1].set_ylabel('Accuracy')\n",
        "axes[1].set_xlabel('Epoch')\n",
        "axes[1].legend(['Train'], loc='lower right')\n",
        "\n",
        "# Adjust layout\n",
        "plt.tight_layout()\n",
        "\n",
        "# Show the plot\n",
        "plt.show()"
      ],
      "metadata": {
        "colab": {
          "base_uri": "https://localhost:8080/",
          "height": 307
        },
        "id": "oFuv5Fc9_kVs",
        "outputId": "00e66e42-72fd-4457-b678-c1ec0c3ac48c"
      },
      "execution_count": null,
      "outputs": [
        {
          "output_type": "display_data",
          "data": {
            "text/plain": [
              "<Figure size 900x300 with 2 Axes>"
            ],
            "image/png": "[encoded data removed]"
          },
          "metadata": {}
        }
      ]
    },
    {
      "cell_type": "code",
      "source": [
        "# Predictions on the test set\n",
        "predictions = model.predict(X_test_pad)\n",
        "\n",
        "# Convert predictions from probabilities to class labels\n",
        "predicted_labels = np.argmax(predictions, axis=1)\n",
        "\n",
        "# Convert encoded labels back to original labels\n",
        "predicted_labels = label_encoder.inverse_transform(predicted_labels)\n",
        "\n",
        "# Create a DataFrame to compare actual vs. predicted labels\n",
        "results_df = pd.DataFrame({'Actual_Labels': Y_test, 'Predicted_Labels': predicted_labels})\n",
        "\n",
        "print(\"Actual vs. Predicted after Random Insertion:\")\n",
        "print(results_df.sample(10))"
      ],
      "metadata": {
        "colab": {
          "base_uri": "https://localhost:8080/"
        },
        "id": "reNEWLv_TU-4",
        "outputId": "00fbd525-41ca-4527-abd4-47d2f3fdf2fb"
      },
      "execution_count": null,
      "outputs": [
        {
          "output_type": "stream",
          "name": "stdout",
          "text": [
            "4/4 [==============================] - 0s 81ms/step\n",
            "Actual vs. Predicted after Random Insertion:\n",
            "    Actual_Labels Predicted_Labels\n",
            "587       Finance       Consulting\n",
            "392   Engineering      Engineering\n",
            "564       Finance      Engineering\n",
            "195       Banking          Banking\n",
            "367    Automobile       Consulting\n",
            "480   Engineering      Engineering\n",
            "312    Consulting               IT\n",
            "221    Consulting      Engineering\n",
            "188       Banking          Banking\n",
            "271    Consulting       Consulting\n"
          ]
        }
      ]
    },
    {
      "cell_type": "markdown",
      "source": [
        "#Random Deletion"
      ],
      "metadata": {
        "id": "fTh7byWH82Ym"
      }
    },
    {
      "cell_type": "code",
      "source": [
        "import random\n",
        "from nltk.tokenize import word_tokenize\n",
        "\n",
        "# Define the augmentation method\n",
        "def augment_text_random_deletion(text):\n",
        "    # Tokenize the text into words\n",
        "    words = word_tokenize(text)\n",
        "\n",
        "    # Randomly select words to delete\n",
        "    num_words_to_delete = len(words) // 3  # Delete approximately 1/3 of words\n",
        "    delete_indices = random.sample(range(len(words)), num_words_to_delete)\n",
        "\n",
        "    # Delete the selected words\n",
        "    augmented_words = [word for idx, word in enumerate(words) if idx not in delete_indices]\n",
        "\n",
        "    # Concatenate the remaining words back into a single string\n",
        "    augmented_text = \" \".join(augmented_words)\n",
        "\n",
        "    return augmented_text\n",
        "\n",
        "# Group text samples by label\n",
        "grouped_data = defaultdict(list)\n",
        "for label, text in zip(data_df['type'], data_df['text']):\n",
        "    grouped_data[label].append(text)\n",
        "\n",
        "# Apply random deletion to each group of text samples\n",
        "augmented_texts = []\n",
        "for label, texts in grouped_data.items():\n",
        "    augmented_group = [augment_text_random_deletion(text) for text in texts]\n",
        "    augmented_texts.extend(augmented_group)\n",
        "\n",
        "# Add the augmented text back to the DataFrame\n",
        "data_df['augmented_text_random_deletion'] = augmented_texts"
      ],
      "metadata": {
        "id": "7bFKWxy58ph2"
      },
      "execution_count": null,
      "outputs": []
    },
    {
      "cell_type": "code",
      "source": [
        "vocab_size = len(tokenizer.word_index) + 1\n",
        "embedding_dim = 200\n",
        "model = Sequential()\n",
        "model.add(Embedding(input_dim=vocab_size, output_dim=embedding_dim, input_length=max_len))\n",
        "filters = 128\n",
        "kernel_size = 5\n",
        "model.add(Conv1D(filters=filters, kernel_size=kernel_size, activation='relu'))\n",
        "model.add(GlobalMaxPooling1D())\n",
        "hidden_units = 64\n",
        "model.add(Dense(hidden_units, activation='relu'))\n",
        "dropout_rate = 0.2\n",
        "model.add(Dropout(rate=dropout_rate))\n",
        "num_classes = len(np.unique(Y_train))\n",
        "model.add(Dense(num_classes, activation='softmax'))\n",
        "model.compile(optimizer='adam', loss='sparse_categorical_crossentropy', metrics=['accuracy'])\n",
        "model.summary()"
      ],
      "metadata": {
        "colab": {
          "base_uri": "https://localhost:8080/"
        },
        "id": "bBfKOxQc_tbv",
        "outputId": "00fbb724-5315-4289-f01e-fdd9d97190bf"
      },
      "execution_count": null,
      "outputs": [
        {
          "output_type": "stream",
          "name": "stdout",
          "text": [
            "Model: \"sequential_3\"\n",
            "_________________________________________________________________\n",
            " Layer (type)                Output Shape              Param #   \n",
            "=================================================================\n",
            " embedding_3 (Embedding)     (None, 21256, 200)        3793800   \n",
            "                                                                 \n",
            " conv1d_3 (Conv1D)           (None, 21252, 128)        128128    \n",
            "                                                                 \n",
            " global_max_pooling1d_3 (Gl  (None, 128)               0         \n",
            " obalMaxPooling1D)                                               \n",
            "                                                                 \n",
            " dense_6 (Dense)             (None, 64)                8256      \n",
            "                                                                 \n",
            " dropout_3 (Dropout)         (None, 64)                0         \n",
            "                                                                 \n",
            " dense_7 (Dense)             (None, 7)                 455       \n",
            "                                                                 \n",
            "=================================================================\n",
            "Total params: 3930639 (14.99 MB)\n",
            "Trainable params: 3930639 (14.99 MB)\n",
            "Non-trainable params: 0 (0.00 Byte)\n",
            "_________________________________________________________________\n"
          ]
        }
      ]
    },
    {
      "cell_type": "code",
      "source": [
        "# Train the model\n",
        "history = model.fit(X_train_pad, Y_train_encoded, epochs=10, batch_size=32, validation_split=0.2)"
      ],
      "metadata": {
        "colab": {
          "base_uri": "https://localhost:8080/"
        },
        "id": "gYxoJyUN_7aS",
        "outputId": "50bcd457-6be5-4eb0-cb75-02801d832488"
      },
      "execution_count": null,
      "outputs": [
        {
          "output_type": "stream",
          "name": "stdout",
          "text": [
            "Epoch 1/10\n",
            "13/13 [==============================] - 6s 370ms/step - loss: 1.8737 - accuracy: 0.2455 - val_loss: 2.4550 - val_accuracy: 0.0000e+00\n",
            "Epoch 2/10\n",
            "13/13 [==============================] - 5s 390ms/step - loss: 1.6654 - accuracy: 0.3049 - val_loss: 3.0320 - val_accuracy: 0.0000e+00\n",
            "Epoch 3/10\n",
            "13/13 [==============================] - 9s 718ms/step - loss: 1.5191 - accuracy: 0.3566 - val_loss: 3.6215 - val_accuracy: 0.0103\n",
            "Epoch 4/10\n",
            "13/13 [==============================] - 8s 587ms/step - loss: 1.3713 - accuracy: 0.5685 - val_loss: 3.9937 - val_accuracy: 0.0309\n",
            "Epoch 5/10\n",
            "13/13 [==============================] - 5s 367ms/step - loss: 1.1673 - accuracy: 0.7700 - val_loss: 4.1175 - val_accuracy: 0.0309\n",
            "Epoch 6/10\n",
            "13/13 [==============================] - 5s 392ms/step - loss: 0.9437 - accuracy: 0.8605 - val_loss: 4.4352 - val_accuracy: 0.0309\n",
            "Epoch 7/10\n",
            "13/13 [==============================] - 5s 367ms/step - loss: 0.7085 - accuracy: 0.8734 - val_loss: 4.6170 - val_accuracy: 0.0309\n",
            "Epoch 8/10\n",
            "13/13 [==============================] - 5s 389ms/step - loss: 0.5057 - accuracy: 0.8837 - val_loss: 4.8410 - val_accuracy: 0.0309\n",
            "Epoch 9/10\n",
            "13/13 [==============================] - 4s 346ms/step - loss: 0.3644 - accuracy: 0.9199 - val_loss: 5.2452 - val_accuracy: 0.0309\n",
            "Epoch 10/10\n",
            "13/13 [==============================] - 4s 311ms/step - loss: 0.2547 - accuracy: 0.9406 - val_loss: 5.5656 - val_accuracy: 0.0309\n"
          ]
        }
      ]
    },
    {
      "cell_type": "code",
      "source": [
        "test_loss, test_accuracy = model.evaluate(X_test_pad, Y_test_encoded)\n",
        "\n",
        "print(\"Random Deletion Loss:\", test_loss)\n",
        "print(\"Random Deletion Accuracy:\", test_accuracy)"
      ],
      "metadata": {
        "colab": {
          "base_uri": "https://localhost:8080/"
        },
        "id": "llp9BpnPAKJz",
        "outputId": "501e4f5d-79dd-4fc5-de24-fd26808fcc61"
      },
      "execution_count": null,
      "outputs": [
        {
          "output_type": "stream",
          "name": "stdout",
          "text": [
            "4/4 [==============================] - 0s 86ms/step - loss: 1.7840 - accuracy: 0.5726\n",
            "Random Deletion Loss: 1.7840397357940674\n",
            "Random Deletion Accuracy: 0.5725806355476379\n"
          ]
        }
      ]
    },
    {
      "cell_type": "code",
      "source": [
        "# Create a figure with two subplots\n",
        "fig, axes = plt.subplots(1, 2, figsize=(9, 3))\n",
        "\n",
        "# Plot training loss values\n",
        "axes[0].plot(history.history['loss'])\n",
        "axes[0].set_title('Random Deletion Loss')\n",
        "axes[0].set_ylabel('Loss')\n",
        "axes[0].set_xlabel('Epoch')\n",
        "axes[0].legend(['Train'], loc='upper right')\n",
        "\n",
        "# Plot training accuracy values\n",
        "axes[1].plot(history.history['accuracy'])\n",
        "axes[1].set_title('Random Deletion Accuracy')\n",
        "axes[1].set_ylabel('Accuracy')\n",
        "axes[1].set_xlabel('Epoch')\n",
        "axes[1].legend(['Train'], loc='lower right')\n",
        "\n",
        "# Adjust layout\n",
        "plt.tight_layout()\n",
        "\n",
        "# Show the plot\n",
        "plt.show()"
      ],
      "metadata": {
        "colab": {
          "base_uri": "https://localhost:8080/",
          "height": 307
        },
        "id": "0dstuDD588yg",
        "outputId": "e856487e-1526-42a9-95f9-1157dc479989"
      },
      "execution_count": null,
      "outputs": [
        {
          "output_type": "display_data",
          "data": {
            "text/plain": [
              "<Figure size 900x300 with 2 Axes>"
            ],
            "image/png": "[encoded data removed]"
          },
          "metadata": {}
        }
      ]
    },
    {
      "cell_type": "code",
      "source": [
        "# Predictions on the test set\n",
        "predictions = model.predict(X_test_pad)\n",
        "\n",
        "# Convert predictions from probabilities to class labels\n",
        "predicted_labels = np.argmax(predictions, axis=1)\n",
        "\n",
        "# Convert encoded labels back to original labels\n",
        "predicted_labels = label_encoder.inverse_transform(predicted_labels)\n",
        "\n",
        "# Create a DataFrame to compare actual vs. predicted labels\n",
        "results_df = pd.DataFrame({'Actual_Labels': Y_test, 'Predicted_Labels': predicted_labels})\n",
        "\n",
        "print(\"Actual vs. Predicted after Random Deletion:\")\n",
        "print(results_df.sample(10))"
      ],
      "metadata": {
        "colab": {
          "base_uri": "https://localhost:8080/"
        },
        "id": "xVuaulvqTp1K",
        "outputId": "c443cef8-3b7a-46b1-84a2-9c647112d427"
      },
      "execution_count": null,
      "outputs": [
        {
          "output_type": "stream",
          "name": "stdout",
          "text": [
            "4/4 [==============================] - 0s 80ms/step\n",
            "Actual vs. Predicted after Random Deletion:\n",
            "    Actual_Labels Predicted_Labels\n",
            "311    Consulting       Consulting\n",
            "4              IT      Engineering\n",
            "368    Automobile          Banking\n",
            "81             IT               IT\n",
            "188       Banking          Banking\n",
            "531       Finance          Banking\n",
            "3              IT               IT\n",
            "84             IT      Engineering\n",
            "108       Banking      Engineering\n",
            "367    Automobile          Banking\n"
          ]
        }
      ]
    },
    {
      "cell_type": "markdown",
      "source": [
        "#Random Swap"
      ],
      "metadata": {
        "id": "jUi7MB9289rB"
      }
    },
    {
      "cell_type": "code",
      "source": [
        "import random\n",
        "from nltk.tokenize import word_tokenize\n",
        "\n",
        "# Define the augmentation method\n",
        "def augment_text_random_swap(text):\n",
        "    # Tokenize the text into words\n",
        "    words = word_tokenize(text)\n",
        "\n",
        "    # Perform random word swaps\n",
        "    num_swaps = len(words) // 4  # Perform approximately one-fourth of the total number of word swaps\n",
        "    for _ in range(num_swaps):\n",
        "        # Randomly select two indices to swap\n",
        "        idx1, idx2 = random.sample(range(len(words)), 2)\n",
        "\n",
        "        # Perform the swap\n",
        "        words[idx1], words[idx2] = words[idx2], words[idx1]\n",
        "\n",
        "    # Concatenate the words back into a single string\n",
        "    augmented_text = \" \".join(words)\n",
        "\n",
        "    return augmented_text\n",
        "\n",
        "# Group text samples by label\n",
        "grouped_data = defaultdict(list)\n",
        "for label, text in zip(data_df['type'], data_df['text']):\n",
        "    grouped_data[label].append(text)\n",
        "\n",
        "# Apply random swap to each group of text samples\n",
        "augmented_texts = []\n",
        "for label, texts in grouped_data.items():\n",
        "    augmented_group = [augment_text_random_swap(text) for text in texts]\n",
        "    augmented_texts.extend(augmented_group)\n",
        "\n",
        "# Add the augmented text back to the DataFrame\n",
        "data_df['augmented_text_random_swap'] = augmented_texts"
      ],
      "metadata": {
        "id": "RX73P9a_8-mW"
      },
      "execution_count": null,
      "outputs": []
    },
    {
      "cell_type": "code",
      "source": [
        "vocab_size = len(tokenizer.word_index) + 1\n",
        "embedding_dim = 200\n",
        "model = Sequential()\n",
        "model.add(Embedding(input_dim=vocab_size, output_dim=embedding_dim, input_length=max_len))\n",
        "filters = 128\n",
        "kernel_size = 5\n",
        "model.add(Conv1D(filters=filters, kernel_size=kernel_size, activation='relu'))\n",
        "model.add(GlobalMaxPooling1D())\n",
        "hidden_units = 64\n",
        "model.add(Dense(hidden_units, activation='relu'))\n",
        "dropout_rate = 0.2\n",
        "model.add(Dropout(rate=dropout_rate))\n",
        "num_classes = len(np.unique(Y_train))\n",
        "model.add(Dense(num_classes, activation='softmax'))\n",
        "model.compile(optimizer='adam', loss='sparse_categorical_crossentropy', metrics=['accuracy'])\n",
        "model.summary()"
      ],
      "metadata": {
        "colab": {
          "base_uri": "https://localhost:8080/"
        },
        "id": "w0spURyX_vFe",
        "outputId": "287352d1-e0d9-42e5-f18d-4e36e7a563f5"
      },
      "execution_count": null,
      "outputs": [
        {
          "output_type": "stream",
          "name": "stdout",
          "text": [
            "Model: \"sequential_4\"\n",
            "_________________________________________________________________\n",
            " Layer (type)                Output Shape              Param #   \n",
            "=================================================================\n",
            " embedding_4 (Embedding)     (None, 21256, 200)        3793800   \n",
            "                                                                 \n",
            " conv1d_4 (Conv1D)           (None, 21252, 128)        128128    \n",
            "                                                                 \n",
            " global_max_pooling1d_4 (Gl  (None, 128)               0         \n",
            " obalMaxPooling1D)                                               \n",
            "                                                                 \n",
            " dense_8 (Dense)             (None, 64)                8256      \n",
            "                                                                 \n",
            " dropout_4 (Dropout)         (None, 64)                0         \n",
            "                                                                 \n",
            " dense_9 (Dense)             (None, 7)                 455       \n",
            "                                                                 \n",
            "=================================================================\n",
            "Total params: 3930639 (14.99 MB)\n",
            "Trainable params: 3930639 (14.99 MB)\n",
            "Non-trainable params: 0 (0.00 Byte)\n",
            "_________________________________________________________________\n"
          ]
        }
      ]
    },
    {
      "cell_type": "code",
      "source": [
        "# Train the model\n",
        "history = model.fit(X_train_pad, Y_train_encoded, epochs=10, batch_size=32, validation_split=0.2)"
      ],
      "metadata": {
        "colab": {
          "base_uri": "https://localhost:8080/"
        },
        "id": "Wa9vA95O_9dR",
        "outputId": "77016b91-b202-4b6d-c5f0-6f3e6648ce58"
      },
      "execution_count": null,
      "outputs": [
        {
          "output_type": "stream",
          "name": "stdout",
          "text": [
            "Epoch 1/10\n",
            "13/13 [==============================] - 6s 365ms/step - loss: 1.9031 - accuracy: 0.2171 - val_loss: 2.4435 - val_accuracy: 0.0206\n",
            "Epoch 2/10\n",
            "13/13 [==============================] - 7s 556ms/step - loss: 1.6486 - accuracy: 0.5375 - val_loss: 3.0700 - val_accuracy: 0.0309\n",
            "Epoch 3/10\n",
            "13/13 [==============================] - 5s 407ms/step - loss: 1.4402 - accuracy: 0.5762 - val_loss: 3.8005 - val_accuracy: 0.0309\n",
            "Epoch 4/10\n",
            "13/13 [==============================] - 5s 364ms/step - loss: 1.2248 - accuracy: 0.7726 - val_loss: 4.2894 - val_accuracy: 0.0206\n",
            "Epoch 5/10\n",
            "13/13 [==============================] - 8s 625ms/step - loss: 0.9656 - accuracy: 0.8320 - val_loss: 4.4711 - val_accuracy: 0.0309\n",
            "Epoch 6/10\n",
            "13/13 [==============================] - 4s 332ms/step - loss: 0.6527 - accuracy: 0.8863 - val_loss: 4.7596 - val_accuracy: 0.0309\n",
            "Epoch 7/10\n",
            "13/13 [==============================] - 4s 317ms/step - loss: 0.4667 - accuracy: 0.9044 - val_loss: 5.1107 - val_accuracy: 0.0206\n",
            "Epoch 8/10\n",
            "13/13 [==============================] - 5s 359ms/step - loss: 0.3254 - accuracy: 0.9199 - val_loss: 5.4923 - val_accuracy: 0.0206\n",
            "Epoch 9/10\n",
            "13/13 [==============================] - 4s 292ms/step - loss: 0.2070 - accuracy: 0.9638 - val_loss: 5.8646 - val_accuracy: 0.0206\n",
            "Epoch 10/10\n",
            "13/13 [==============================] - 4s 313ms/step - loss: 0.1638 - accuracy: 0.9638 - val_loss: 6.0917 - val_accuracy: 0.0206\n"
          ]
        }
      ]
    },
    {
      "cell_type": "code",
      "source": [
        "test_loss, test_accuracy = model.evaluate(X_test_pad, Y_test_encoded)\n",
        "\n",
        "print(\"Random Swap Loss:\", test_loss)\n",
        "print(\"Random Swap Accuracy:\", test_accuracy)"
      ],
      "metadata": {
        "colab": {
          "base_uri": "https://localhost:8080/"
        },
        "id": "Ui-ofhJKALyd",
        "outputId": "f0940b2a-0cf4-4b82-8617-af9da3f22460"
      },
      "execution_count": null,
      "outputs": [
        {
          "output_type": "stream",
          "name": "stdout",
          "text": [
            "4/4 [==============================] - 0s 68ms/step - loss: 1.7422 - accuracy: 0.6290\n",
            "Random Swap Loss: 1.7422480583190918\n",
            "Random Swap Accuracy: 0.6290322542190552\n"
          ]
        }
      ]
    },
    {
      "cell_type": "code",
      "source": [
        "# Create a figure with two subplots\n",
        "fig, axes = plt.subplots(1, 2, figsize=(9, 3))\n",
        "\n",
        "# Plot training loss values\n",
        "axes[0].plot(history.history['loss'])\n",
        "axes[0].set_title('Random Swap Loss')\n",
        "axes[0].set_ylabel('Loss')\n",
        "axes[0].set_xlabel('Epoch')\n",
        "axes[0].legend(['Train'], loc='upper right')\n",
        "\n",
        "# Plot training accuracy values\n",
        "axes[1].plot(history.history['accuracy'])\n",
        "axes[1].set_title('Random Swap Accuracy')\n",
        "axes[1].set_ylabel('Accuracy')\n",
        "axes[1].set_xlabel('Epoch')\n",
        "axes[1].legend(['Train'], loc='lower right')\n",
        "\n",
        "# Adjust layout\n",
        "plt.tight_layout()\n",
        "\n",
        "# Show the plot\n",
        "plt.show()"
      ],
      "metadata": {
        "colab": {
          "base_uri": "https://localhost:8080/",
          "height": 307
        },
        "id": "Vc7lm5Um79cs",
        "outputId": "3e122573-639b-4ec6-c05d-45f314d592d5"
      },
      "execution_count": null,
      "outputs": [
        {
          "output_type": "display_data",
          "data": {
            "text/plain": [
              "<Figure size 900x300 with 2 Axes>"
            ],
            "image/png": "[encoded data removed]"
          },
          "metadata": {}
        }
      ]
    },
    {
      "cell_type": "code",
      "source": [
        "# Predictions on the test set\n",
        "predictions = model.predict(X_test_pad)\n",
        "\n",
        "# Convert predictions from probabilities to class labels\n",
        "predicted_labels = np.argmax(predictions, axis=1)\n",
        "\n",
        "# Convert encoded labels back to original labels\n",
        "predicted_labels = label_encoder.inverse_transform(predicted_labels)\n",
        "\n",
        "# Create a DataFrame to compare actual vs. predicted labels\n",
        "results_df = pd.DataFrame({'Actual_Labels': Y_test, 'Predicted_Labels': predicted_labels})\n",
        "\n",
        "print(\"Actual vs. Predicted after Random Swap:\")\n",
        "print(results_df.sample(10))"
      ],
      "metadata": {
        "colab": {
          "base_uri": "https://localhost:8080/"
        },
        "id": "UAwd0HnFT6wO",
        "outputId": "8c1f2058-7590-4a11-f208-a55f5d37d826"
      },
      "execution_count": null,
      "outputs": [
        {
          "output_type": "stream",
          "name": "stdout",
          "text": [
            "4/4 [==============================] - 0s 62ms/step\n",
            "Actual vs. Predicted after Random Swap:\n",
            "    Actual_Labels Predicted_Labels\n",
            "338     Analytics          Banking\n",
            "491       Finance       Consulting\n",
            "84             IT               IT\n",
            "445   Engineering      Engineering\n",
            "538       Finance          Banking\n",
            "545       Finance          Banking\n",
            "311    Consulting       Consulting\n",
            "3              IT               IT\n",
            "137       Banking          Banking\n",
            "526       Finance          Banking\n"
          ]
        }
      ]
    }
  ]
}