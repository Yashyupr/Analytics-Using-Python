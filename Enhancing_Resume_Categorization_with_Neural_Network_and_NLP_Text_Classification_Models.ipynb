{
  "nbformat": 4,
  "nbformat_minor": 0,
  "metadata": {
    "colab": {
      "provenance": [],
      "gpuType": "T4",
      "authorship_tag": "ABX9TyMlZOcEibC9XnpsETxX8tWV",
      "include_colab_link": true
    },
    "kernelspec": {
      "name": "python3",
      "display_name": "Python 3"
    },
    "language_info": {
      "name": "python"
    },
    "accelerator": "GPU"
  },
  "cells": [
    {
      "cell_type": "markdown",
      "metadata": {
        "id": "view-in-github",
        "colab_type": "text"
      },
      "source": [
        "<a href=\"https://colab.research.google.com/github/Yashyupr/Analytics-Using-Python/blob/master/Enhancing_Resume_Categorization_with_Neural_Network_and_NLP_Text_Classification_Models.ipynb\" target=\"_parent\"><img src=\"https://colab.research.google.com/assets/colab-badge.svg\" alt=\"Open In Colab\"/></a>"
      ]
    },
    {
      "cell_type": "code",
      "execution_count": null,
      "metadata": {
        "colab": {
          "base_uri": "https://localhost:8080/"
        },
        "id": "bcnlkjS06Jpu",
        "outputId": "43b77f8a-4c19-4980-98e5-478e4fd1dc42"
      },
      "outputs": [
        {
          "output_type": "stream",
          "name": "stdout",
          "text": [
            "Drive already mounted at /content/drive; to attempt to forcibly remount, call drive.mount(\"/content/drive\", force_remount=True).\n"
          ]
        }
      ],
      "source": [
        "from google.colab import drive\n",
        "drive.mount ('/content/drive')"
      ]
    },
    {
      "cell_type": "code",
      "source": [
        "import numpy as np\n",
        "import pandas as pd\n",
        "import os\n",
        "import matplotlib.pyplot as plt\n",
        "import seaborn as sns\n",
        "col_pal = sns.color_palette()\n",
        "import random"
      ],
      "metadata": {
        "id": "qZghopjF7B2q"
      },
      "execution_count": null,
      "outputs": []
    },
    {
      "cell_type": "code",
      "source": [
        "data_path = '/content/drive/MyDrive/CV for Dissertation/Dataset'\n",
        "\n",
        "data = {'file': [], 'type': []}\n",
        "\n",
        "# Iterate through the directory and its subdirectories\n",
        "for root, dirs, files in os.walk(data_path):\n",
        "    for file in files:\n",
        "        file_path = os.path.join(root, file)\n",
        "        file_type = os.path.basename(root)\n",
        "        data['file'].append(file_path)\n",
        "        data['type'].append(file_type)\n",
        "\n",
        "# Create a DataFrame from the data dictionary\n",
        "data_df = pd.DataFrame(data)\n",
        "\n",
        "# Display the first few rows of the DataFrame\n",
        "print(data_df.head())"
      ],
      "metadata": {
        "colab": {
          "base_uri": "https://localhost:8080/"
        },
        "id": "OcLL6VfZ7Ilb",
        "outputId": "06ce457f-4e2c-483f-bf26-ec33fdfa812b"
      },
      "execution_count": null,
      "outputs": [
        {
          "output_type": "stream",
          "name": "stdout",
          "text": [
            "                                                file type\n",
            "0  /content/drive/MyDrive/CV for Dissertation/Dat...   IT\n",
            "1  /content/drive/MyDrive/CV for Dissertation/Dat...   IT\n",
            "2  /content/drive/MyDrive/CV for Dissertation/Dat...   IT\n",
            "3  /content/drive/MyDrive/CV for Dissertation/Dat...   IT\n",
            "4  /content/drive/MyDrive/CV for Dissertation/Dat...   IT\n"
          ]
        }
      ]
    },
    {
      "cell_type": "markdown",
      "source": [
        "#Data Distribution Visualization"
      ],
      "metadata": {
        "id": "YAFbDIAL9TOA"
      }
    },
    {
      "cell_type": "code",
      "source": [
        "occurrence = data_df['type'].value_counts()\n",
        "\n",
        "# Sort the data in ascending order\n",
        "occurrence_sorted = occurrence.sort_values(ascending=False)\n",
        "\n",
        "# Set the style of seaborn\n",
        "sns.set_style(\"whitegrid\")\n",
        "\n",
        "# Create the bar plot\n",
        "plt.figure(figsize=(10, 7))\n",
        "sns.barplot(x = occurrence_sorted.values, y = occurrence_sorted.index)\n",
        "plt.xlabel('Count')\n",
        "plt.ylabel('File Type')\n",
        "plt.title('Count of Each File Type')\n",
        "plt.show()"
      ],
      "metadata": {
        "colab": {
          "base_uri": "https://localhost:8080/",
          "height": 641
        },
        "id": "eOsbWXLT7eMt",
        "outputId": "dff4edcb-2f1e-4e8f-f51f-bbdf5d6d2723"
      },
      "execution_count": null,
      "outputs": [
        {
          "output_type": "display_data",
          "data": {
            "text/plain": [
              "<Figure size 1000x700 with 1 Axes>"
            ],
            "image/png": "[encoded data removed]"
          },
          "metadata": {}
        }
      ]
    },
    {
      "cell_type": "markdown",
      "source": [
        "#Extracting Text from PDF"
      ],
      "metadata": {
        "id": "RksVawNMChgs"
      }
    },
    {
      "cell_type": "code",
      "source": [
        "!pip install pdfminer.six"
      ],
      "metadata": {
        "colab": {
          "base_uri": "https://localhost:8080/"
        },
        "id": "Y6ahoR6T73B_",
        "outputId": "ccde8c0d-ee86-4fe2-935f-2c31aea6fc5d"
      },
      "execution_count": null,
      "outputs": [
        {
          "output_type": "stream",
          "name": "stdout",
          "text": [
            "Requirement already satisfied: pdfminer.six in /usr/local/lib/python3.10/dist-packages (20231228)\n",
            "Requirement already satisfied: charset-normalizer>=2.0.0 in /usr/local/lib/python3.10/dist-packages (from pdfminer.six) (3.3.2)\n",
            "Requirement already satisfied: cryptography>=36.0.0 in /usr/local/lib/python3.10/dist-packages (from pdfminer.six) (42.0.5)\n",
            "Requirement already satisfied: cffi>=1.12 in /usr/local/lib/python3.10/dist-packages (from cryptography>=36.0.0->pdfminer.six) (1.16.0)\n",
            "Requirement already satisfied: pycparser in /usr/local/lib/python3.10/dist-packages (from cffi>=1.12->cryptography>=36.0.0->pdfminer.six) (2.22)\n"
          ]
        }
      ]
    },
    {
      "cell_type": "code",
      "source": [
        "import re\n",
        "from pdfminer.high_level import extract_pages, extract_text"
      ],
      "metadata": {
        "id": "5VwC6RytCwfr"
      },
      "execution_count": null,
      "outputs": []
    },
    {
      "cell_type": "code",
      "source": [
        "# Function to extract text from a single PDF file\n",
        "def extract_text_from_pdf(file_path):\n",
        "    try:\n",
        "        text = extract_text(file_path)\n",
        "        if isinstance(text, str):\n",
        "            return text.replace('\\n', ' ')\n",
        "        else:\n",
        "            return ''  # Return empty string if text is not a string\n",
        "    except Exception as e:\n",
        "        print(f\"Error extracting text from {file_path}: {e}\")\n",
        "        return ''"
      ],
      "metadata": {
        "id": "7L4cJ5A8C-sI"
      },
      "execution_count": null,
      "outputs": []
    },
    {
      "cell_type": "code",
      "source": [
        "# Initialize lists to store extracted text\n",
        "texts_cv = []\n",
        "empty_cv = []"
      ],
      "metadata": {
        "id": "2Y0TfZ2GPaQK"
      },
      "execution_count": null,
      "outputs": []
    },
    {
      "cell_type": "code",
      "source": [
        "# Iterate through each file in the DataFrame\n",
        "for file_path in data_df['file']:\n",
        "    text = extract_text_from_pdf(file_path)\n",
        "    if text:\n",
        "        texts_cv.append(text)\n",
        "    else:\n",
        "        empty_cv.append(file_path)"
      ],
      "metadata": {
        "id": "jYreKVtNPgBq"
      },
      "execution_count": null,
      "outputs": []
    },
    {
      "cell_type": "code",
      "source": [
        "# Convert the list of texts to strings\n",
        "texts_cv_str = [str(text) for text in texts_cv]\n",
        "\n",
        "# Create a DataFrame to store the texts and file paths\n",
        "text_data_df = pd.DataFrame({'text': texts_cv_str, 'file': data_df['file']})\n",
        "\n",
        "# Shuffle the DataFrame\n",
        "shuffled_text_data_df = text_data_df.sample(frac=1).reset_index(drop=True)\n",
        "\n",
        "# Access the shuffled texts and file paths\n",
        "shuffled_texts_cv = shuffled_text_data_df['text']\n",
        "shuffled_file_paths = shuffled_text_data_df['file']"
      ],
      "metadata": {
        "id": "UPO0wvojaAov"
      },
      "execution_count": null,
      "outputs": []
    },
    {
      "cell_type": "code",
      "source": [
        "print(shuffled_texts_cv.head())"
      ],
      "metadata": {
        "colab": {
          "base_uri": "https://localhost:8080/"
        },
        "id": "4TFb-AXbaiSK",
        "outputId": "a5ea2194-b381-438d-d9a2-d79a041513c9"
      },
      "execution_count": null,
      "outputs": [
        {
          "output_type": "stream",
          "name": "stdout",
          "text": [
            "0    FINANCE OFFICER Summary Competent and reliable...\n",
            "1    MANAGEMENT CONSULTANT Summary  Human capital m...\n",
            "2    MANAGING PRINCIPAL Career Focus  Results-drive...\n",
            "3    SALES & SERVICE ASSOCIATE Summary  To secure a...\n",
            "4    CONSULTANT Education and Training 2016 MPH, Ge...\n",
            "Name: text, dtype: object\n"
          ]
        }
      ]
    },
    {
      "cell_type": "code",
      "source": [
        "shuffled_texts_cv[0]"
      ],
      "metadata": {
        "colab": {
          "base_uri": "https://localhost:8080/",
          "height": 143
        },
        "id": "5JXVQmkyXsMU",
        "outputId": "6187a470-7f1e-4187-d203-2f1b9b498283"
      },
      "execution_count": null,
      "outputs": [
        {
          "output_type": "execute_result",
          "data": {
            "text/plain": [
              "\"FINANCE OFFICER Summary Competent and reliable professional, committed to excellence with proven team leading and team building skills, who sees challenges as an opportunity to grow and develop. Ability to lead a team of people from diverse backgrounds, by communicating clear goals and objectives, and understanding and resolving the needs of the team to ensure that targets are met. Responsible, analytical, results oriented, effective, efficient and flexible work attitude which aims to achieve and surpass set goals. Highly confidential, honest, pro-active individual who operates with integrity in all aspects of life, possessing expertise in Accounting, Supervisory Management and Training skills. Highlights  ACCPAC accounting skills Analytical reasoning Budget analysis Account reconciliations  Accomplishments  Liaised with the BPI Team in investigating and understanding the nature of most of the errors on the Savings & IP Schedules thus enabling me to clear most of the items  Successfully streamlined daily reconciliations in order to identify reconciling items & errors and clear them in a timely manner  Achieved set targets and contributed to the overall attainment of the department and company's goalsTrained staff regarding standard operating procedures  Resolved differences between team members and ensured an atmosphere of unity and respect  Maintained dialog with customers in order to promote the company's sales & to develop a good rapport with the customers  Organize and streamlined the routine procedures for the sales representatives  Ensured that both monthly & annual Returns prepared and submitted a timely manner  Experience Finance Officer  May 2011 to January 2016 Company Name ï¼\\u200b City , State  G/L Reporting & Preparation of Audit Schedules Daily General Ledger postings and accounting journals for: Investigated and put together Savings & Interest Payable Reconciliations to show the aggregate net savings and liabilities position of the organization year to date Staff Loans & Statutory Deductions Investment Accounting Compiled, analyzed and prepared Interest Income, and Price Volume Budget Analysis to assist the Budget Analyst in gaining a comprehensive depiction of the actual interest derived from investments on a monthly and year to date basis in comparison to the budgeted figures Gathered information for Accretion & Amortization Schedules to determine bonds that are tax exempted Accomplishments Liaised with the BPI Team in investigating and understanding the nature of most of the errors on the Savings & IP Schedules thus enabling me to clear most of the items Successfully streamlined daily reconciliations in order to identify reconciling items & errors and clear them in a timely manner.  Payroll Assistant  November 2010 to December 2010 Company Name ï¼\\u200b City , State  Preparation of Bank reconciliations. Accomplishments. Ensured that bank reconciliations were prepared in a timely manner and outstanding items were effectively researched and cleared promptly.  Accounts Officer  January 2007 to January 2009 Company Name ï¼\\u200b City , State  Daily General Ledger postings and accounting journals for bank reconciliations Analyzing and implementing procedures to resolve unreconciled items on assigned bank accounts Prepared scheduled reports with Cash Flow Statements Accomplishments Achieved set targets and contributed to the overall attainment of the department and company's goals.  Supervisor & Senior Accounts Clerk  January 1997 to January 2007 Company Name ï¼\\u200b City , State  Supervised a staff of eleven persons. Regular scheduled inventory updates and reconciliations each month Prepared Payroll for weekly and monthly staff using Turbo Pay software Daily scheduled directives for inventory to deliver island wide Accomplishments Trained staff regarding standard operating procedures Resolved differences between team members and ensured an atmosphere of unity and respect Maintained dialogue with customers in order to promote the company's sales & to develop a good rapport with the customers Organize and streamlined the routine procedures for the sales representatives Ensured that both monthly & annual Returns prepared and submitted a timely manner.  \\x0cEducation Bachelor of Science Degree : Business Administration Finance , 2009 Northern Caribbean University ï¼\\u200b City , JAMAICA  Business Administration Finance  Certificate of Management Studies St. Hugh's High School Sixth form Business Certificate : 2002 University of the West Indies ï¼\\u200b City , JAMAICA W.I. Interests Reading Additional Information  Reading  Skills  Bank reconciliations, Analysis, bonds, Budget Analysis, Cash Flow, General Ledger, inventory, investments, Interest Payable & Savings, Payroll, Schedules, Sales, Customer Service  \\x0c\""
            ],
            "application/vnd.google.colaboratory.intrinsic+json": {
              "type": "string"
            }
          },
          "metadata": {},
          "execution_count": 46
        }
      ]
    },
    {
      "cell_type": "code",
      "source": [
        "len(empty_cv)"
      ],
      "metadata": {
        "colab": {
          "base_uri": "https://localhost:8080/"
        },
        "id": "iWcXHTiFX0J0",
        "outputId": "aecba5ba-54ec-4861-ff22-399a3c8a3c04"
      },
      "execution_count": null,
      "outputs": [
        {
          "output_type": "execute_result",
          "data": {
            "text/plain": [
              "0"
            ]
          },
          "metadata": {},
          "execution_count": 47
        }
      ]
    },
    {
      "cell_type": "code",
      "source": [
        "data['text'] = shuffled_texts_cv\n",
        "\n",
        "for key in empty_cv:\n",
        "    data.pop(key, None)"
      ],
      "metadata": {
        "id": "XfHQQlyoX-bQ"
      },
      "execution_count": null,
      "outputs": []
    },
    {
      "cell_type": "markdown",
      "source": [
        "#Exploratory Data Analysis"
      ],
      "metadata": {
        "id": "bYYGLHazYZ7_"
      }
    },
    {
      "cell_type": "code",
      "source": [
        "cv_length=[len(i) for i in shuffled_texts_cv]"
      ],
      "metadata": {
        "id": "sdWt3cXDYCIm"
      },
      "execution_count": null,
      "outputs": []
    },
    {
      "cell_type": "code",
      "source": [
        "plt.hist(cv_length)\n",
        "plt.xlabel('Sentence length')\n",
        "plt.ylabel('Occurrences')\n",
        "plt.title('CV Length')"
      ],
      "metadata": {
        "colab": {
          "base_uri": "https://localhost:8080/",
          "height": 490
        },
        "id": "9r9L_t3sYfmu",
        "outputId": "9d4a67f0-c468-4476-eb5a-bf39ad7f79e8"
      },
      "execution_count": null,
      "outputs": [
        {
          "output_type": "execute_result",
          "data": {
            "text/plain": [
              "Text(0.5, 1.0, 'CV Length')"
            ]
          },
          "metadata": {},
          "execution_count": 50
        },
        {
          "output_type": "display_data",
          "data": {
            "text/plain": [
              "<Figure size 640x480 with 1 Axes>"
            ],
            "image/png": "[encoded data removed]"
          },
          "metadata": {}
        }
      ]
    },
    {
      "cell_type": "code",
      "source": [
        "import statistics\n",
        "\n",
        "# Calculate basic statistics\n",
        "mean = statistics.mean(cv_length)  # Mean\n",
        "min = min(cv_length)  # Minimum length\n",
        "max = max(cv_length)  # Maximum length\n",
        "std = statistics.stdev(cv_length)  # Standard deviation\n",
        "var = statistics.variance(cv_length)  # Variance\n",
        "\n",
        "# Print the results\n",
        "print(\"Mean CV length:\", mean)\n",
        "print(\"Minimum CV length:\", min)\n",
        "print(\"Maximum CV length:\", max)\n",
        "print(\"Standard deviation of CV length:\", std)\n",
        "print(\"Variance of CV length:\", var)\n",
        "\n",
        "# Calculate the number of CVs\n",
        "num_cvs = len(cv_length)\n",
        "print(\"Number of CVs:\", num_cvs)"
      ],
      "metadata": {
        "colab": {
          "base_uri": "https://localhost:8080/"
        },
        "id": "gaM_vZoIsLXp",
        "outputId": "adca6137-af26-4504-fc36-f16d691da1b6"
      },
      "execution_count": null,
      "outputs": [
        {
          "output_type": "stream",
          "name": "stdout",
          "text": [
            "Mean CV length: 6292.743421052632\n",
            "Minimum CV length: 1208\n",
            "Maximum CV length: 21256\n",
            "Standard deviation of CV length: 2553.107173071459\n",
            "Variance of CV length: 6518356.237188936\n",
            "Number of CVs: 608\n"
          ]
        }
      ]
    },
    {
      "cell_type": "code",
      "source": [
        "vocab_size= int(mean + (3 * std)) #Removing outlier\n",
        "vocab_size"
      ],
      "metadata": {
        "colab": {
          "base_uri": "https://localhost:8080/"
        },
        "id": "AzmrM17SYtxn",
        "outputId": "14fc26c1-9a3b-43c0-a8d1-1886a7ccdd3e"
      },
      "execution_count": null,
      "outputs": [
        {
          "output_type": "execute_result",
          "data": {
            "text/plain": [
              "13952"
            ]
          },
          "metadata": {},
          "execution_count": 53
        }
      ]
    },
    {
      "cell_type": "markdown",
      "source": [
        "#Data Splitting"
      ],
      "metadata": {
        "id": "g3ChOtibZAf2"
      }
    },
    {
      "cell_type": "code",
      "source": [
        "print(\"Total number of CVs in the original data:\", len(data_df))"
      ],
      "metadata": {
        "colab": {
          "base_uri": "https://localhost:8080/"
        },
        "id": "oqRkTxolzJEd",
        "outputId": "c1fe71de-bc3a-4a22-f6e8-52b936c6db78"
      },
      "execution_count": null,
      "outputs": [
        {
          "output_type": "stream",
          "name": "stdout",
          "text": [
            "Total number of CVs in the original data: 608\n"
          ]
        }
      ]
    },
    {
      "cell_type": "code",
      "source": [
        "from collections import defaultdict\n",
        "import numpy as np\n",
        "\n",
        "# Identify unique labels\n",
        "unique_labels = data_df['type'].unique()\n",
        "\n",
        "# Initialize dictionaries to store indices of samples for each label\n",
        "train_indices = defaultdict(list)\n",
        "test_indices = defaultdict(list)"
      ],
      "metadata": {
        "id": "3rIQA4LRf43q"
      },
      "execution_count": null,
      "outputs": []
    },
    {
      "cell_type": "code",
      "source": [
        "# Randomly split samples for each label into train and test sets\n",
        "for label in unique_labels:\n",
        "    label_indices = np.where(data_df['type'] == label)[0]\n",
        "    np.random.shuffle(label_indices)\n",
        "    split_index = int(0.8 * len(label_indices))\n",
        "    train_indices[label] = label_indices[:split_index]\n",
        "    test_indices[label] = label_indices[split_index:]"
      ],
      "metadata": {
        "id": "4ePVAU4khVFX"
      },
      "execution_count": null,
      "outputs": []
    },
    {
      "cell_type": "code",
      "source": [
        "# Combine indices for all labels into train and test sets\n",
        "train_indices_all = np.concatenate(list(train_indices.values()))\n",
        "test_indices_all = np.concatenate(list(test_indices.values()))\n",
        "\n",
        "# Create train and test sets using the indices\n",
        "X_train = data_df['text'][train_indices_all]\n",
        "Y_train = data_df['type'][train_indices_all]\n",
        "X_test = data_df['text'][test_indices_all]\n",
        "Y_test = data_df['type'][test_indices_all]"
      ],
      "metadata": {
        "id": "Hhz9hitGhaP8"
      },
      "execution_count": null,
      "outputs": []
    },
    {
      "cell_type": "code",
      "source": [
        "# Print the sizes of train and test sets\n",
        "print(\"Size of training set:\", len(X_train))\n",
        "print(\"Size of testing set:\", len(X_test))"
      ],
      "metadata": {
        "colab": {
          "base_uri": "https://localhost:8080/"
        },
        "id": "R5uS5tEtheh4",
        "outputId": "a83f89fb-105a-4a65-9fdd-38cbd1b7eb8c"
      },
      "execution_count": null,
      "outputs": [
        {
          "output_type": "stream",
          "name": "stdout",
          "text": [
            "Size of training set: 484\n",
            "Size of testing set: 124\n"
          ]
        }
      ]
    },
    {
      "cell_type": "code",
      "source": [
        "# Get unique labels for train and test data\n",
        "unique_labels_train = data_df.loc[train_indices_all, 'type'].unique()\n",
        "unique_labels_test = data_df.loc[test_indices_all, 'type'].unique()\n",
        "\n",
        "# Print unique labels for train and test data\n",
        "print(\"Unique labels in train data:\", unique_labels_train)\n",
        "print(\"Unique labels in test data:\", unique_labels_test)"
      ],
      "metadata": {
        "colab": {
          "base_uri": "https://localhost:8080/"
        },
        "id": "BWYcQY_q-j_y",
        "outputId": "44e2e732-3345-4872-9e9f-d3ff68b8fa58"
      },
      "execution_count": null,
      "outputs": [
        {
          "output_type": "stream",
          "name": "stdout",
          "text": [
            "Unique labels in train data: ['IT' 'Banking' 'Consulting' 'Analytics' 'Automobile' 'Engineering'\n",
            " 'Finance']\n",
            "Unique labels in test data: ['IT' 'Banking' 'Consulting' 'Analytics' 'Automobile' 'Engineering'\n",
            " 'Finance']\n"
          ]
        }
      ]
    },
    {
      "cell_type": "code",
      "source": [
        "print(data_df.columns)"
      ],
      "metadata": {
        "colab": {
          "base_uri": "https://localhost:8080/"
        },
        "id": "e6ZWeucl0HcS",
        "outputId": "bfcadfb7-158c-4fea-951f-c1e14be6d3cd"
      },
      "execution_count": null,
      "outputs": [
        {
          "output_type": "stream",
          "name": "stdout",
          "text": [
            "Index(['file', 'type', 'text'], dtype='object')\n"
          ]
        }
      ]
    },
    {
      "cell_type": "code",
      "source": [
        "# Display the first few rows of your DataFrame\n",
        "print(data_df.head())"
      ],
      "metadata": {
        "colab": {
          "base_uri": "https://localhost:8080/"
        },
        "id": "JGcUFNZGikqT",
        "outputId": "18df2ea7-9545-4e2e-87d2-d007bd7cb749"
      },
      "execution_count": null,
      "outputs": [
        {
          "output_type": "stream",
          "name": "stdout",
          "text": [
            "                                                file type  \\\n",
            "0  /content/drive/MyDrive/CV for Dissertation/Dat...   IT   \n",
            "1  /content/drive/MyDrive/CV for Dissertation/Dat...   IT   \n",
            "2  /content/drive/MyDrive/CV for Dissertation/Dat...   IT   \n",
            "3  /content/drive/MyDrive/CV for Dissertation/Dat...   IT   \n",
            "4  /content/drive/MyDrive/CV for Dissertation/Dat...   IT   \n",
            "\n",
            "                                                text  \n",
            "0  PROJECT MANAGER AND TECHNICAL IMPLEMENTATION C...  \n",
            "1  INFORMATION TECHNOLOGY SPECIALIST (WEB), GS-11...  \n",
            "2  INFORMATION TECHNOLOGY SPECIALIST(DISCOUNTPCFI...  \n",
            "3  INFORMATION TECHNOLOGY INTERN Professional Pro...  \n",
            "4  INFORMATION TECHNOLOGY (IT) SPECIALIST Experie...  \n"
          ]
        }
      ]
    },
    {
      "cell_type": "markdown",
      "source": [
        "#Convolutional Neural Network (CNN) for Text Classification"
      ],
      "metadata": {
        "id": "A_OIsHM53aAp"
      }
    },
    {
      "cell_type": "code",
      "source": [
        "import numpy as np\n",
        "from sklearn.preprocessing import LabelEncoder\n",
        "from tensorflow.keras.preprocessing.text import Tokenizer\n",
        "from tensorflow.keras.preprocessing.sequence import pad_sequences\n",
        "from tensorflow.keras.layers import Embedding, Conv1D, GlobalMaxPooling1D, Dense, Dropout\n",
        "from tensorflow.keras.models import Sequential\n",
        "from sklearn.metrics import accuracy_score"
      ],
      "metadata": {
        "id": "YqaMvbA66iQQ"
      },
      "execution_count": null,
      "outputs": []
    },
    {
      "cell_type": "code",
      "source": [
        "# Tokenization\n",
        "tokenizer = Tokenizer()\n",
        "tokenizer.fit_on_texts(X_train)"
      ],
      "metadata": {
        "id": "Zuz5lBwujY-L"
      },
      "execution_count": null,
      "outputs": []
    },
    {
      "cell_type": "code",
      "source": [
        "# Convert text data to sequences\n",
        "X_train_seq = tokenizer.texts_to_sequences(X_train)\n",
        "X_test_seq = tokenizer.texts_to_sequences(X_test)"
      ],
      "metadata": {
        "id": "plS4EWsyjh39"
      },
      "execution_count": null,
      "outputs": []
    },
    {
      "cell_type": "code",
      "source": [
        "import numpy as np\n",
        "from tensorflow.keras.preprocessing.sequence import pad_sequences\n",
        "\n",
        "# Define the desired minimum and maximum sequence lengths\n",
        "min_len = 1208  # Minimum CV length\n",
        "max_len = 21256  # Maximum CV length\n",
        "\n",
        "# Padding sequences to ensure uniform length\n",
        "X_train_pad = pad_sequences(X_train_seq, maxlen=max_len, padding='post', truncating='post')\n",
        "X_test_pad = pad_sequences(X_test_seq, maxlen=max_len, padding='post', truncating='post')"
      ],
      "metadata": {
        "id": "bj0sjgqijmPz"
      },
      "execution_count": null,
      "outputs": []
    },
    {
      "cell_type": "code",
      "source": [
        "from sklearn.preprocessing import LabelEncoder\n",
        "\n",
        "# Initialize LabelEncoder\n",
        "label_encoder = LabelEncoder()\n",
        "\n",
        "# Fit and transform labels in the training set\n",
        "Y_train_encoded = label_encoder.fit_transform(Y_train)\n",
        "\n",
        "# Transform labels in the testing set\n",
        "Y_test_encoded = label_encoder.transform(Y_test)"
      ],
      "metadata": {
        "id": "TK5IegcOjs0u"
      },
      "execution_count": null,
      "outputs": []
    },
    {
      "cell_type": "code",
      "source": [
        "from tensorflow.keras.models import Sequential\n",
        "from tensorflow.keras.layers import Embedding, Conv1D, GlobalMaxPooling1D, Dense, Dropout\n",
        "\n",
        "# Define the vocabulary size (should be the same as the number of unique words in your tokenizer)\n",
        "vocab_size = len(tokenizer.word_index) + 1\n",
        "\n",
        "# Define the embedding dimension\n",
        "embedding_dim = 200\n",
        "\n",
        "# Define the CNN model\n",
        "model = Sequential()\n",
        "\n",
        "# Add an Embedding layer\n",
        "model.add(Embedding(input_dim=vocab_size, output_dim=embedding_dim, input_length=max_len))\n",
        "\n",
        "# Add a 1D convolutional layer\n",
        "filters = 128\n",
        "kernel_size = 5\n",
        "model.add(Conv1D(filters=filters, kernel_size=kernel_size, activation='relu'))\n",
        "\n",
        "# Add global max pooling layer\n",
        "model.add(GlobalMaxPooling1D())\n",
        "\n",
        "# Add a Dense layer\n",
        "hidden_units = 64\n",
        "model.add(Dense(hidden_units, activation='relu'))\n",
        "\n",
        "# Add a dropout layer for regularization\n",
        "dropout_rate = 0.2\n",
        "model.add(Dropout(rate=dropout_rate))\n",
        "\n",
        "# Output layer\n",
        "num_classes = len(np.unique(Y_train))  # Number of unique classes\n",
        "model.add(Dense(num_classes, activation='softmax'))\n",
        "\n",
        "# Compile the model\n",
        "model.compile(optimizer='adam', loss='sparse_categorical_crossentropy', metrics=['accuracy'])\n",
        "\n",
        "# Print the model summary\n",
        "model.summary()"
      ],
      "metadata": {
        "colab": {
          "base_uri": "https://localhost:8080/"
        },
        "id": "TvE02U-kj1z0",
        "outputId": "40dffd63-6913-4378-b0fd-23d9ec88b7a9"
      },
      "execution_count": null,
      "outputs": [
        {
          "output_type": "stream",
          "name": "stdout",
          "text": [
            "Model: \"sequential\"\n",
            "_________________________________________________________________\n",
            " Layer (type)                Output Shape              Param #   \n",
            "=================================================================\n",
            " embedding (Embedding)       (None, 21256, 200)        3830400   \n",
            "                                                                 \n",
            " conv1d (Conv1D)             (None, 21252, 128)        128128    \n",
            "                                                                 \n",
            " global_max_pooling1d (Glob  (None, 128)               0         \n",
            " alMaxPooling1D)                                                 \n",
            "                                                                 \n",
            " dense (Dense)               (None, 64)                8256      \n",
            "                                                                 \n",
            " dropout (Dropout)           (None, 64)                0         \n",
            "                                                                 \n",
            " dense_1 (Dense)             (None, 7)                 455       \n",
            "                                                                 \n",
            "=================================================================\n",
            "Total params: 3967239 (15.13 MB)\n",
            "Trainable params: 3967239 (15.13 MB)\n",
            "Non-trainable params: 0 (0.00 Byte)\n",
            "_________________________________________________________________\n"
          ]
        }
      ]
    },
    {
      "cell_type": "code",
      "source": [
        "# Train the model\n",
        "history = model.fit(X_train_pad, Y_train_encoded, epochs=20, batch_size=32, validation_split=0.2)"
      ],
      "metadata": {
        "colab": {
          "base_uri": "https://localhost:8080/"
        },
        "id": "MN8xxLCfoqyR",
        "outputId": "551684d3-4ab1-4544-aece-a397260553e6"
      },
      "execution_count": null,
      "outputs": [
        {
          "output_type": "stream",
          "name": "stdout",
          "text": [
            "Epoch 1/20\n",
            "13/13 [==============================] - 188s 14s/step - loss: 1.8458 - accuracy: 0.2455 - val_loss: 2.5398 - val_accuracy: 0.0000e+00\n",
            "Epoch 2/20\n",
            "13/13 [==============================] - 187s 14s/step - loss: 1.6388 - accuracy: 0.3152 - val_loss: 3.0063 - val_accuracy: 0.0000e+00\n",
            "Epoch 3/20\n",
            "13/13 [==============================] - 193s 15s/step - loss: 1.4693 - accuracy: 0.4238 - val_loss: 3.2481 - val_accuracy: 0.0103\n",
            "Epoch 4/20\n",
            "13/13 [==============================] - 205s 16s/step - loss: 1.2782 - accuracy: 0.6796 - val_loss: 3.6444 - val_accuracy: 0.0103\n",
            "Epoch 5/20\n",
            "13/13 [==============================] - 189s 15s/step - loss: 1.0410 - accuracy: 0.8114 - val_loss: 4.0428 - val_accuracy: 0.0206\n",
            "Epoch 6/20\n",
            "13/13 [==============================] - 182s 14s/step - loss: 0.7761 - accuracy: 0.8760 - val_loss: 4.3611 - val_accuracy: 0.0309\n",
            "Epoch 7/20\n",
            "13/13 [==============================] - 184s 14s/step - loss: 0.5618 - accuracy: 0.8837 - val_loss: 4.7148 - val_accuracy: 0.0206\n",
            "Epoch 8/20\n",
            "13/13 [==============================] - 171s 13s/step - loss: 0.3671 - accuracy: 0.9121 - val_loss: 4.9644 - val_accuracy: 0.0309\n",
            "Epoch 9/20\n",
            "13/13 [==============================] - 176s 14s/step - loss: 0.2457 - accuracy: 0.9664 - val_loss: 5.4804 - val_accuracy: 0.0309\n",
            "Epoch 10/20\n",
            "13/13 [==============================] - 178s 14s/step - loss: 0.1708 - accuracy: 0.9974 - val_loss: 5.9017 - val_accuracy: 0.0206\n",
            "Epoch 11/20\n",
            "13/13 [==============================] - 181s 14s/step - loss: 0.1165 - accuracy: 0.9974 - val_loss: 6.1800 - val_accuracy: 0.0309\n",
            "Epoch 12/20\n",
            "13/13 [==============================] - 179s 14s/step - loss: 0.0740 - accuracy: 0.9974 - val_loss: 6.5532 - val_accuracy: 0.0309\n",
            "Epoch 13/20\n",
            "13/13 [==============================] - 177s 14s/step - loss: 0.0525 - accuracy: 1.0000 - val_loss: 6.8950 - val_accuracy: 0.0309\n",
            "Epoch 14/20\n",
            "13/13 [==============================] - 176s 14s/step - loss: 0.0442 - accuracy: 0.9974 - val_loss: 6.9632 - val_accuracy: 0.0309\n",
            "Epoch 15/20\n",
            "13/13 [==============================] - 171s 13s/step - loss: 0.0331 - accuracy: 1.0000 - val_loss: 6.9520 - val_accuracy: 0.0309\n",
            "Epoch 16/20\n",
            "13/13 [==============================] - 177s 14s/step - loss: 0.0263 - accuracy: 1.0000 - val_loss: 7.1474 - val_accuracy: 0.0309\n",
            "Epoch 17/20\n",
            "13/13 [==============================] - 177s 14s/step - loss: 0.0232 - accuracy: 1.0000 - val_loss: 7.2979 - val_accuracy: 0.0309\n",
            "Epoch 18/20\n",
            "13/13 [==============================] - 175s 14s/step - loss: 0.0176 - accuracy: 1.0000 - val_loss: 7.4164 - val_accuracy: 0.0309\n",
            "Epoch 19/20\n",
            "13/13 [==============================] - 176s 14s/step - loss: 0.0152 - accuracy: 1.0000 - val_loss: 7.5894 - val_accuracy: 0.0309\n",
            "Epoch 20/20\n",
            "13/13 [==============================] - 178s 14s/step - loss: 0.0166 - accuracy: 1.0000 - val_loss: 7.5666 - val_accuracy: 0.0309\n"
          ]
        }
      ]
    },
    {
      "cell_type": "code",
      "source": [
        "# Evaluate the model on the testing data\n",
        "test_loss, test_accuracy = model.evaluate(X_test_pad, Y_test_encoded)\n",
        "\n",
        "# Print the test loss and accuracy\n",
        "print(\"Test Loss:\", test_loss)\n",
        "print(\"Test Accuracy:\", test_accuracy)\n"
      ],
      "metadata": {
        "colab": {
          "base_uri": "https://localhost:8080/"
        },
        "id": "AawpPcB0_BYu",
        "outputId": "385a3340-6dd3-4045-9311-acde22eeb6e5"
      },
      "execution_count": null,
      "outputs": [
        {
          "output_type": "stream",
          "name": "stdout",
          "text": [
            "4/4 [==============================] - 15s 4s/step - loss: 2.0631 - accuracy: 0.6129\n",
            "Test Loss: 2.0631351470947266\n",
            "Test Accuracy: 0.6129032373428345\n"
          ]
        }
      ]
    },
    {
      "cell_type": "code",
      "source": [
        "import matplotlib.pyplot as plt\n",
        "\n",
        "# Create a figure with two subplots\n",
        "fig, axes = plt.subplots(1, 2, figsize=(9, 3))\n",
        "\n",
        "# Plot training loss values\n",
        "axes[0].plot(history.history['loss'])\n",
        "axes[0].set_title('Model Loss')\n",
        "axes[0].set_ylabel('Loss')\n",
        "axes[0].set_xlabel('Epoch')\n",
        "axes[0].legend(['Train'], loc='upper right')\n",
        "\n",
        "# Plot training accuracy values\n",
        "axes[1].plot(history.history['accuracy'])\n",
        "axes[1].set_title('Model Accuracy')\n",
        "axes[1].set_ylabel('Accuracy')\n",
        "axes[1].set_xlabel('Epoch')\n",
        "axes[1].legend(['Train'], loc='lower right')\n",
        "\n",
        "# Adjust layout\n",
        "plt.tight_layout()\n",
        "\n",
        "# Show the plot\n",
        "plt.show()"
      ],
      "metadata": {
        "colab": {
          "base_uri": "https://localhost:8080/",
          "height": 307
        },
        "id": "64ape-o54JXd",
        "outputId": "b5597c78-b246-48bf-ba12-21db74c092f5"
      },
      "execution_count": null,
      "outputs": [
        {
          "output_type": "display_data",
          "data": {
            "text/plain": [
              "<Figure size 900x300 with 2 Axes>"
            ],
            "image/png": "[encoded data removed]"
          },
          "metadata": {}
        }
      ]
    },
    {
      "cell_type": "markdown",
      "source": [
        "#Text Augmentation"
      ],
      "metadata": {
        "id": "a1nzLS16A7Sw"
      }
    },
    {
      "cell_type": "code",
      "source": [
        "import nltk\n",
        "nltk.download('punkt')\n",
        "nltk.download('wordnet')\n",
        "from nltk.corpus import wordnet\n",
        "from collections import defaultdict"
      ],
      "metadata": {
        "colab": {
          "base_uri": "https://localhost:8080/"
        },
        "id": "2FBBq-zIBQj2",
        "outputId": "04456bd1-a253-4027-d64f-74a85a6b68b8"
      },
      "execution_count": null,
      "outputs": [
        {
          "output_type": "stream",
          "name": "stderr",
          "text": [
            "[nltk_data] Downloading package punkt to /root/nltk_data...\n",
            "[nltk_data]   Unzipping tokenizers/punkt.zip.\n",
            "[nltk_data] Downloading package wordnet to /root/nltk_data...\n"
          ]
        }
      ]
    },
    {
      "cell_type": "markdown",
      "source": [
        "#Synonym Replacement"
      ],
      "metadata": {
        "id": "-HhPqvLH7FLH"
      }
    },
    {
      "cell_type": "code",
      "source": [
        "# Function to perform synonym replacement\n",
        "def synonym_replacement(sentence, n=1):\n",
        "    words = nltk.word_tokenize(sentence)\n",
        "    new_sentence = sentence\n",
        "    for _ in range(n):\n",
        "        for i in range(len(words)):\n",
        "            syns = wordnet.synsets(words[i])\n",
        "            if syns:\n",
        "                synonyms = [lemma.name().replace('_', ' ') for lemma in syns[0].lemmas()]\n",
        "                if synonyms:\n",
        "                    new_word = random.choice(synonyms)  # Choose a random synonym\n",
        "                    words[i] = new_word\n",
        "                    new_sentence = ' '.join(words)\n",
        "                    break\n",
        "    return new_sentence"
      ],
      "metadata": {
        "id": "bt_tL07c6cLX"
      },
      "execution_count": null,
      "outputs": []
    },
    {
      "cell_type": "code",
      "source": [
        "from collections import defaultdict\n",
        "\n",
        "# Define a function to perform synonym replacement on a single text sample\n",
        "def augment_text(text):\n",
        "    return synonym_replacement(text)\n",
        "\n",
        "# Group text samples by label\n",
        "grouped_data = defaultdict(list)\n",
        "for label, text in zip(data_df['type'], data_df['text']):\n",
        "    grouped_data[label].append(text)\n",
        "\n",
        "# Apply synonym replacement to each group of text samples\n",
        "augmented_texts = []\n",
        "for label, texts in grouped_data.items():\n",
        "    augmented_group = [augment_text(text) for text in texts]\n",
        "    augmented_texts.extend(augmented_group)\n",
        "\n",
        "# Add the augmented text back to the DataFrame\n",
        "data_df['augmented_text'] = augmented_texts"
      ],
      "metadata": {
        "id": "wUyrXf597a-b"
      },
      "execution_count": null,
      "outputs": []
    },
    {
      "cell_type": "code",
      "source": [
        "vocab_size = len(tokenizer.word_index) + 1\n",
        "embedding_dim = 200\n",
        "model = Sequential()\n",
        "\n",
        "model.add(Embedding(input_dim=vocab_size, output_dim=embedding_dim, input_length=max_len))\n",
        "filters = 128\n",
        "kernel_size = 5\n",
        "model.add(Conv1D(filters=filters, kernel_size=kernel_size, activation='relu'))\n",
        "\n",
        "model.add(GlobalMaxPooling1D())\n",
        "\n",
        "hidden_units = 64\n",
        "model.add(Dense(hidden_units, activation='relu'))\n",
        "\n",
        "dropout_rate = 0.2\n",
        "model.add(Dropout(rate=dropout_rate))\n",
        "\n",
        "num_classes = len(np.unique(Y_train))  # Number of unique classes\n",
        "model.add(Dense(num_classes, activation='softmax'))\n",
        "\n",
        "model.compile(optimizer='adam', loss='sparse_categorical_crossentropy', metrics=['accuracy'])\n",
        "\n",
        "model.summary()"
      ],
      "metadata": {
        "colab": {
          "base_uri": "https://localhost:8080/"
        },
        "id": "afZgcgqg914s",
        "outputId": "352b1812-42d5-43de-b28f-62e1ee012b87"
      },
      "execution_count": null,
      "outputs": [
        {
          "output_type": "stream",
          "name": "stdout",
          "text": [
            "Model: \"sequential_1\"\n",
            "_________________________________________________________________\n",
            " Layer (type)                Output Shape              Param #   \n",
            "=================================================================\n",
            " embedding_1 (Embedding)     (None, 21256, 200)        3830400   \n",
            "                                                                 \n",
            " conv1d_1 (Conv1D)           (None, 21252, 128)        128128    \n",
            "                                                                 \n",
            " global_max_pooling1d_1 (Gl  (None, 128)               0         \n",
            " obalMaxPooling1D)                                               \n",
            "                                                                 \n",
            " dense_2 (Dense)             (None, 64)                8256      \n",
            "                                                                 \n",
            " dropout_1 (Dropout)         (None, 64)                0         \n",
            "                                                                 \n",
            " dense_3 (Dense)             (None, 7)                 455       \n",
            "                                                                 \n",
            "=================================================================\n",
            "Total params: 3967239 (15.13 MB)\n",
            "Trainable params: 3967239 (15.13 MB)\n",
            "Non-trainable params: 0 (0.00 Byte)\n",
            "_________________________________________________________________\n"
          ]
        }
      ]
    },
    {
      "cell_type": "code",
      "source": [
        "# Train the model\n",
        "history = model.fit(X_train_pad, Y_train_encoded, epochs=20, batch_size=32, validation_split=0.2)"
      ],
      "metadata": {
        "colab": {
          "base_uri": "https://localhost:8080/"
        },
        "id": "XPXXfyt191w1",
        "outputId": "4aa41812-cc40-42cb-b058-05fdf11f67a8"
      },
      "execution_count": null,
      "outputs": [
        {
          "output_type": "stream",
          "name": "stdout",
          "text": [
            "Epoch 1/20\n",
            "13/13 [==============================] - 171s 13s/step - loss: 1.8182 - accuracy: 0.2300 - val_loss: 2.8375 - val_accuracy: 0.0309\n",
            "Epoch 2/20\n",
            "13/13 [==============================] - 204s 16s/step - loss: 1.6317 - accuracy: 0.3256 - val_loss: 3.7236 - val_accuracy: 0.0309\n",
            "Epoch 3/20\n",
            "13/13 [==============================] - 201s 16s/step - loss: 1.5199 - accuracy: 0.4289 - val_loss: 3.8679 - val_accuracy: 0.0103\n",
            "Epoch 4/20\n",
            "13/13 [==============================] - 202s 16s/step - loss: 1.3760 - accuracy: 0.6279 - val_loss: 3.8789 - val_accuracy: 0.0309\n",
            "Epoch 5/20\n",
            "13/13 [==============================] - 180s 14s/step - loss: 1.1573 - accuracy: 0.8062 - val_loss: 4.2186 - val_accuracy: 0.0309\n",
            "Epoch 6/20\n",
            "13/13 [==============================] - 177s 14s/step - loss: 0.9011 - accuracy: 0.8553 - val_loss: 4.5348 - val_accuracy: 0.0309\n",
            "Epoch 7/20\n",
            "13/13 [==============================] - 178s 14s/step - loss: 0.6115 - accuracy: 0.8889 - val_loss: 4.7451 - val_accuracy: 0.0309\n",
            "Epoch 8/20\n",
            "13/13 [==============================] - 179s 14s/step - loss: 0.4266 - accuracy: 0.9018 - val_loss: 4.9901 - val_accuracy: 0.0309\n",
            "Epoch 9/20\n",
            "13/13 [==============================] - 179s 14s/step - loss: 0.2914 - accuracy: 0.9432 - val_loss: 5.2618 - val_accuracy: 0.0309\n",
            "Epoch 10/20\n",
            "13/13 [==============================] - 167s 13s/step - loss: 0.1955 - accuracy: 0.9742 - val_loss: 5.3732 - val_accuracy: 0.0309\n",
            "Epoch 11/20\n",
            "13/13 [==============================] - 168s 13s/step - loss: 0.1166 - accuracy: 0.9922 - val_loss: 5.6377 - val_accuracy: 0.0309\n",
            "Epoch 12/20\n",
            "13/13 [==============================] - 184s 14s/step - loss: 0.0995 - accuracy: 0.9922 - val_loss: 5.9897 - val_accuracy: 0.0309\n",
            "Epoch 13/20\n",
            "13/13 [==============================] - 170s 13s/step - loss: 0.0769 - accuracy: 0.9948 - val_loss: 6.2286 - val_accuracy: 0.0309\n",
            "Epoch 14/20\n",
            "13/13 [==============================] - 178s 14s/step - loss: 0.0501 - accuracy: 0.9922 - val_loss: 6.5268 - val_accuracy: 0.0309\n",
            "Epoch 15/20\n",
            "13/13 [==============================] - 176s 14s/step - loss: 0.0311 - accuracy: 1.0000 - val_loss: 6.5496 - val_accuracy: 0.0309\n",
            "Epoch 16/20\n",
            "13/13 [==============================] - 178s 14s/step - loss: 0.0226 - accuracy: 1.0000 - val_loss: 6.8185 - val_accuracy: 0.0309\n",
            "Epoch 17/20\n",
            "13/13 [==============================] - 179s 14s/step - loss: 0.0225 - accuracy: 1.0000 - val_loss: 7.1700 - val_accuracy: 0.0309\n",
            "Epoch 18/20\n",
            "13/13 [==============================] - 167s 13s/step - loss: 0.0214 - accuracy: 0.9974 - val_loss: 7.0578 - val_accuracy: 0.0309\n",
            "Epoch 19/20\n",
            "13/13 [==============================] - 168s 13s/step - loss: 0.0137 - accuracy: 1.0000 - val_loss: 7.2551 - val_accuracy: 0.0309\n",
            "Epoch 20/20\n",
            "13/13 [==============================] - 177s 14s/step - loss: 0.0122 - accuracy: 1.0000 - val_loss: 7.4292 - val_accuracy: 0.0309\n"
          ]
        }
      ]
    },
    {
      "cell_type": "code",
      "source": [
        "# Evaluate the model on the testing data\n",
        "test_loss, test_accuracy = model.evaluate(X_test_pad, Y_test_encoded)\n",
        "\n",
        "# Print the test loss and accuracy\n",
        "print(\"Synonym Replacement Loss:\", test_loss)\n",
        "print(\"Synonym Replacement Accuracy:\", test_accuracy)"
      ],
      "metadata": {
        "colab": {
          "base_uri": "https://localhost:8080/"
        },
        "id": "FTWCpvMn91l8",
        "outputId": "eb7b0ae5-57a5-4f50-ec7d-b559073ef950"
      },
      "execution_count": null,
      "outputs": [
        {
          "output_type": "stream",
          "name": "stdout",
          "text": [
            "4/4 [==============================] - 15s 4s/step - loss: 1.9722 - accuracy: 0.6290\n",
            "Synonym Replacement Loss: 1.9722208976745605\n",
            "Synonym Replacement Accuracy: 0.6290322542190552\n"
          ]
        }
      ]
    },
    {
      "cell_type": "code",
      "source": [
        "import matplotlib.pyplot as plt\n",
        "\n",
        "# Create a figure with two subplots\n",
        "fig, axes = plt.subplots(1, 2, figsize=(9, 3))\n",
        "\n",
        "# Plot training loss values\n",
        "axes[0].plot(history.history['loss'])\n",
        "axes[0].set_title('Synonym Replacement Loss')\n",
        "axes[0].set_ylabel('Loss')\n",
        "axes[0].set_xlabel('Epoch')\n",
        "axes[0].legend(['Train'], loc='upper right')\n",
        "\n",
        "# Plot training accuracy values\n",
        "axes[1].plot(history.history['accuracy'])\n",
        "axes[1].set_title('Synonym Replacement Accuracy')\n",
        "axes[1].set_ylabel('Accuracy')\n",
        "axes[1].set_xlabel('Epoch')\n",
        "axes[1].legend(['Train'], loc='lower right')\n",
        "\n",
        "# Adjust layout\n",
        "plt.tight_layout()\n",
        "\n",
        "# Show the plot\n",
        "plt.show()"
      ],
      "metadata": {
        "colab": {
          "base_uri": "https://localhost:8080/",
          "height": 307
        },
        "id": "GNqnp47I8w1X",
        "outputId": "31b768e6-e3cd-4ed1-8169-84afd5e64a0f"
      },
      "execution_count": null,
      "outputs": [
        {
          "output_type": "display_data",
          "data": {
            "text/plain": [
              "<Figure size 900x300 with 2 Axes>"
            ],
            "image/png": "[encoded data removed]"
          },
          "metadata": {}
        }
      ]
    },
    {
      "cell_type": "markdown",
      "source": [
        "#Random Insertion"
      ],
      "metadata": {
        "id": "vh0N8ZnR8s3P"
      }
    },
    {
      "cell_type": "code",
      "source": [
        "import random\n",
        "from nltk.tokenize import word_tokenize\n",
        "\n",
        "# Define the augmentation method\n",
        "def augment_text_random_insertion(text):\n",
        "    # Tokenize the text into words\n",
        "    words = word_tokenize(text)\n",
        "\n",
        "    # Randomly select a position to insert a word\n",
        "    insert_idx = random.randint(0, len(words))\n",
        "\n",
        "    # Insert a random word at the selected position\n",
        "    random_word = \"randomword\"  # You can replace this with your own logic to generate a random word\n",
        "    words.insert(insert_idx, random_word)\n",
        "\n",
        "    # Concatenate the words back into a single string\n",
        "    augmented_text = \" \".join(words)\n",
        "\n",
        "    return augmented_text\n",
        "\n",
        "# Group text samples by label\n",
        "grouped_data = defaultdict(list)\n",
        "for label, text in zip(data_df['type'], data_df['text']):\n",
        "    grouped_data[label].append(text)\n",
        "\n",
        "# Apply random insertion to each group of text samples\n",
        "augmented_texts = []\n",
        "for label, texts in grouped_data.items():\n",
        "    augmented_group = [augment_text_random_insertion(text) for text in texts]\n",
        "    augmented_texts.extend(augmented_group)\n",
        "\n",
        "# Add the augmented text back to the DataFrame\n",
        "data_df['augmented_text_random_insertion'] = augmented_texts"
      ],
      "metadata": {
        "id": "ck6o7YaJ8pz5"
      },
      "execution_count": null,
      "outputs": []
    },
    {
      "cell_type": "code",
      "source": [
        "vocab_size = len(tokenizer.word_index) + 1\n",
        "embedding_dim = 200\n",
        "model = Sequential()\n",
        "model.add(Embedding(input_dim=vocab_size, output_dim=embedding_dim, input_length=max_len))\n",
        "filters = 128\n",
        "kernel_size = 5\n",
        "model.add(Conv1D(filters=filters, kernel_size=kernel_size, activation='relu'))\n",
        "model.add(GlobalMaxPooling1D())\n",
        "hidden_units = 64\n",
        "model.add(Dense(hidden_units, activation='relu'))\n",
        "dropout_rate = 0.2\n",
        "model.add(Dropout(rate=dropout_rate))\n",
        "num_classes = len(np.unique(Y_train))\n",
        "model.add(Dense(num_classes, activation='softmax'))\n",
        "model.compile(optimizer='adam', loss='sparse_categorical_crossentropy', metrics=['accuracy'])\n",
        "model.summary()"
      ],
      "metadata": {
        "colab": {
          "base_uri": "https://localhost:8080/"
        },
        "id": "fN_0KA6p_kn7",
        "outputId": "14f6598b-52e3-4908-cc2c-901468b6f51b"
      },
      "execution_count": null,
      "outputs": [
        {
          "output_type": "stream",
          "name": "stdout",
          "text": [
            "Model: \"sequential_2\"\n",
            "_________________________________________________________________\n",
            " Layer (type)                Output Shape              Param #   \n",
            "=================================================================\n",
            " embedding_2 (Embedding)     (None, 21256, 200)        3830400   \n",
            "                                                                 \n",
            " conv1d_2 (Conv1D)           (None, 21252, 128)        128128    \n",
            "                                                                 \n",
            " global_max_pooling1d_2 (Gl  (None, 128)               0         \n",
            " obalMaxPooling1D)                                               \n",
            "                                                                 \n",
            " dense_4 (Dense)             (None, 64)                8256      \n",
            "                                                                 \n",
            " dropout_2 (Dropout)         (None, 64)                0         \n",
            "                                                                 \n",
            " dense_5 (Dense)             (None, 7)                 455       \n",
            "                                                                 \n",
            "=================================================================\n",
            "Total params: 3967239 (15.13 MB)\n",
            "Trainable params: 3967239 (15.13 MB)\n",
            "Non-trainable params: 0 (0.00 Byte)\n",
            "_________________________________________________________________\n"
          ]
        }
      ]
    },
    {
      "cell_type": "code",
      "source": [
        "# Train the model\n",
        "history = model.fit(X_train_pad, Y_train_encoded, epochs=10, batch_size=32, validation_split=0.2)"
      ],
      "metadata": {
        "colab": {
          "base_uri": "https://localhost:8080/"
        },
        "id": "pHUYRxms_4TD",
        "outputId": "24b6f7a4-67f4-4c97-c2db-baac91b14555"
      },
      "execution_count": null,
      "outputs": [
        {
          "output_type": "stream",
          "name": "stdout",
          "text": [
            "Epoch 1/10\n",
            "13/13 [==============================] - 202s 16s/step - loss: 1.8905 - accuracy: 0.2016 - val_loss: 2.3905 - val_accuracy: 0.0103\n",
            "Epoch 2/10\n",
            "13/13 [==============================] - 172s 13s/step - loss: 1.6767 - accuracy: 0.3824 - val_loss: 3.1694 - val_accuracy: 0.0309\n",
            "Epoch 3/10\n",
            "13/13 [==============================] - 176s 14s/step - loss: 1.4953 - accuracy: 0.5581 - val_loss: 3.6428 - val_accuracy: 0.0309\n",
            "Epoch 4/10\n",
            "13/13 [==============================] - 169s 13s/step - loss: 1.2964 - accuracy: 0.6744 - val_loss: 3.9989 - val_accuracy: 0.0309\n",
            "Epoch 5/10\n",
            "13/13 [==============================] - 178s 14s/step - loss: 1.0322 - accuracy: 0.8217 - val_loss: 4.0776 - val_accuracy: 0.0309\n",
            "Epoch 6/10\n",
            "13/13 [==============================] - 172s 13s/step - loss: 0.7646 - accuracy: 0.8630 - val_loss: 4.4440 - val_accuracy: 0.0309\n",
            "Epoch 7/10\n",
            "13/13 [==============================] - 181s 14s/step - loss: 0.5028 - accuracy: 0.8992 - val_loss: 4.6608 - val_accuracy: 0.0309\n",
            "Epoch 8/10\n",
            "13/13 [==============================] - 179s 14s/step - loss: 0.3323 - accuracy: 0.9173 - val_loss: 4.9326 - val_accuracy: 0.0309\n",
            "Epoch 9/10\n",
            "13/13 [==============================] - 170s 13s/step - loss: 0.1964 - accuracy: 0.9587 - val_loss: 5.1434 - val_accuracy: 0.0309\n",
            "Epoch 10/10\n",
            "13/13 [==============================] - 176s 14s/step - loss: 0.1318 - accuracy: 0.9845 - val_loss: 5.3776 - val_accuracy: 0.0309\n"
          ]
        }
      ]
    },
    {
      "cell_type": "code",
      "source": [
        "# Evaluate the model on the testing data\n",
        "test_loss, test_accuracy = model.evaluate(X_test_pad, Y_test_encoded)\n",
        "\n",
        "# Print the test loss and accuracy\n",
        "print(\"Random Insertion Loss:\", test_loss)\n",
        "print(\"Random Insertion Accuracy:\", test_accuracy)"
      ],
      "metadata": {
        "colab": {
          "base_uri": "https://localhost:8080/"
        },
        "id": "QxjFi8nwAFU6",
        "outputId": "be26a90d-76cf-4a69-9047-7c0956f6bf6d"
      },
      "execution_count": null,
      "outputs": [
        {
          "output_type": "stream",
          "name": "stdout",
          "text": [
            "4/4 [==============================] - 15s 4s/step - loss: 1.6166 - accuracy: 0.6452\n",
            "Random Insertion Loss: 1.6165632009506226\n",
            "Random Insertion Accuracy: 0.6451612710952759\n"
          ]
        }
      ]
    },
    {
      "cell_type": "code",
      "source": [
        "import matplotlib.pyplot as plt\n",
        "\n",
        "# Create a figure with two subplots\n",
        "fig, axes = plt.subplots(1, 2, figsize=(9, 3))\n",
        "\n",
        "# Plot training loss values\n",
        "axes[0].plot(history.history['loss'])\n",
        "axes[0].set_title('Random Insertion Loss')\n",
        "axes[0].set_ylabel('Loss')\n",
        "axes[0].set_xlabel('Epoch')\n",
        "axes[0].legend(['Train'], loc='upper right')\n",
        "\n",
        "# Plot training accuracy values\n",
        "axes[1].plot(history.history['accuracy'])\n",
        "axes[1].set_title('Random Insertion Accuracy')\n",
        "axes[1].set_ylabel('Accuracy')\n",
        "axes[1].set_xlabel('Epoch')\n",
        "axes[1].legend(['Train'], loc='lower right')\n",
        "\n",
        "# Adjust layout\n",
        "plt.tight_layout()\n",
        "\n",
        "# Show the plot\n",
        "plt.show()"
      ],
      "metadata": {
        "colab": {
          "base_uri": "https://localhost:8080/",
          "height": 307
        },
        "id": "oFuv5Fc9_kVs",
        "outputId": "a6966a79-ad49-4427-b278-4b38c2ca791e"
      },
      "execution_count": null,
      "outputs": [
        {
          "output_type": "display_data",
          "data": {
            "text/plain": [
              "<Figure size 900x300 with 2 Axes>"
            ],
            "image/png": "[encoded data removed]"
          },
          "metadata": {}
        }
      ]
    },
    {
      "cell_type": "markdown",
      "source": [
        "#Random Deletion"
      ],
      "metadata": {
        "id": "fTh7byWH82Ym"
      }
    },
    {
      "cell_type": "code",
      "source": [
        "import random\n",
        "from nltk.tokenize import word_tokenize\n",
        "\n",
        "# Define the augmentation method\n",
        "def augment_text_random_deletion(text):\n",
        "    # Tokenize the text into words\n",
        "    words = word_tokenize(text)\n",
        "\n",
        "    # Randomly select words to delete\n",
        "    num_words_to_delete = len(words) // 3  # Delete approximately 1/3 of words\n",
        "    delete_indices = random.sample(range(len(words)), num_words_to_delete)\n",
        "\n",
        "    # Delete the selected words\n",
        "    augmented_words = [word for idx, word in enumerate(words) if idx not in delete_indices]\n",
        "\n",
        "    # Concatenate the remaining words back into a single string\n",
        "    augmented_text = \" \".join(augmented_words)\n",
        "\n",
        "    return augmented_text\n",
        "\n",
        "# Group text samples by label\n",
        "grouped_data = defaultdict(list)\n",
        "for label, text in zip(data_df['type'], data_df['text']):\n",
        "    grouped_data[label].append(text)\n",
        "\n",
        "# Apply random deletion to each group of text samples\n",
        "augmented_texts = []\n",
        "for label, texts in grouped_data.items():\n",
        "    augmented_group = [augment_text_random_deletion(text) for text in texts]\n",
        "    augmented_texts.extend(augmented_group)\n",
        "\n",
        "# Add the augmented text back to the DataFrame\n",
        "data_df['augmented_text_random_deletion'] = augmented_texts"
      ],
      "metadata": {
        "id": "7bFKWxy58ph2"
      },
      "execution_count": null,
      "outputs": []
    },
    {
      "cell_type": "code",
      "source": [
        "vocab_size = len(tokenizer.word_index) + 1\n",
        "embedding_dim = 200\n",
        "model = Sequential()\n",
        "model.add(Embedding(input_dim=vocab_size, output_dim=embedding_dim, input_length=max_len))\n",
        "filters = 128\n",
        "kernel_size = 5\n",
        "model.add(Conv1D(filters=filters, kernel_size=kernel_size, activation='relu'))\n",
        "model.add(GlobalMaxPooling1D())\n",
        "hidden_units = 64\n",
        "model.add(Dense(hidden_units, activation='relu'))\n",
        "dropout_rate = 0.2\n",
        "model.add(Dropout(rate=dropout_rate))\n",
        "num_classes = len(np.unique(Y_train))\n",
        "model.add(Dense(num_classes, activation='softmax'))\n",
        "model.compile(optimizer='adam', loss='sparse_categorical_crossentropy', metrics=['accuracy'])\n",
        "model.summary()"
      ],
      "metadata": {
        "colab": {
          "base_uri": "https://localhost:8080/"
        },
        "id": "bBfKOxQc_tbv",
        "outputId": "5667b084-a580-4b1d-bf21-9eb19a7c90af"
      },
      "execution_count": null,
      "outputs": [
        {
          "output_type": "stream",
          "name": "stdout",
          "text": [
            "Model: \"sequential_3\"\n",
            "_________________________________________________________________\n",
            " Layer (type)                Output Shape              Param #   \n",
            "=================================================================\n",
            " embedding_3 (Embedding)     (None, 21256, 200)        3830400   \n",
            "                                                                 \n",
            " conv1d_3 (Conv1D)           (None, 21252, 128)        128128    \n",
            "                                                                 \n",
            " global_max_pooling1d_3 (Gl  (None, 128)               0         \n",
            " obalMaxPooling1D)                                               \n",
            "                                                                 \n",
            " dense_6 (Dense)             (None, 64)                8256      \n",
            "                                                                 \n",
            " dropout_3 (Dropout)         (None, 64)                0         \n",
            "                                                                 \n",
            " dense_7 (Dense)             (None, 7)                 455       \n",
            "                                                                 \n",
            "=================================================================\n",
            "Total params: 3967239 (15.13 MB)\n",
            "Trainable params: 3967239 (15.13 MB)\n",
            "Non-trainable params: 0 (0.00 Byte)\n",
            "_________________________________________________________________\n"
          ]
        }
      ]
    },
    {
      "cell_type": "code",
      "source": [
        "# Train the model\n",
        "history = model.fit(X_train_pad, Y_train_encoded, epochs=10, batch_size=32, validation_split=0.2)"
      ],
      "metadata": {
        "colab": {
          "base_uri": "https://localhost:8080/"
        },
        "id": "gYxoJyUN_7aS",
        "outputId": "447ecd1c-d8d5-4597-c632-8610942b6ee4"
      },
      "execution_count": null,
      "outputs": [
        {
          "output_type": "stream",
          "name": "stdout",
          "text": [
            "Epoch 1/10\n",
            "13/13 [==============================] - 180s 14s/step - loss: 1.8873 - accuracy: 0.1990 - val_loss: 2.2295 - val_accuracy: 0.0309\n",
            "Epoch 2/10\n",
            "13/13 [==============================] - 178s 14s/step - loss: 1.6956 - accuracy: 0.3695 - val_loss: 2.6857 - val_accuracy: 0.0309\n",
            "Epoch 3/10\n",
            "13/13 [==============================] - 178s 14s/step - loss: 1.5224 - accuracy: 0.4858 - val_loss: 3.2592 - val_accuracy: 0.0206\n",
            "Epoch 4/10\n",
            "13/13 [==============================] - 184s 14s/step - loss: 1.3533 - accuracy: 0.5788 - val_loss: 3.5181 - val_accuracy: 0.0309\n",
            "Epoch 5/10\n",
            "13/13 [==============================] - 178s 14s/step - loss: 1.1538 - accuracy: 0.7416 - val_loss: 3.7827 - val_accuracy: 0.0309\n",
            "Epoch 6/10\n",
            "13/13 [==============================] - 178s 14s/step - loss: 0.9043 - accuracy: 0.8269 - val_loss: 4.0764 - val_accuracy: 0.0309\n",
            "Epoch 7/10\n",
            "13/13 [==============================] - 170s 13s/step - loss: 0.6910 - accuracy: 0.8760 - val_loss: 4.3718 - val_accuracy: 0.0309\n",
            "Epoch 8/10\n",
            "13/13 [==============================] - 178s 14s/step - loss: 0.4802 - accuracy: 0.9121 - val_loss: 4.6263 - val_accuracy: 0.0309\n",
            "Epoch 9/10\n",
            "13/13 [==============================] - 180s 14s/step - loss: 0.3246 - accuracy: 0.9251 - val_loss: 4.8015 - val_accuracy: 0.0309\n",
            "Epoch 10/10\n",
            "13/13 [==============================] - 179s 14s/step - loss: 0.2298 - accuracy: 0.9664 - val_loss: 4.9407 - val_accuracy: 0.0309\n"
          ]
        }
      ]
    },
    {
      "cell_type": "code",
      "source": [
        "# Evaluate the model on the testing data\n",
        "test_loss, test_accuracy = model.evaluate(X_test_pad, Y_test_encoded)\n",
        "\n",
        "# Print the test loss and accuracy\n",
        "print(\"Random Deletion Loss:\", test_loss)\n",
        "print(\"Random Deletion Accuracy:\", test_accuracy)"
      ],
      "metadata": {
        "colab": {
          "base_uri": "https://localhost:8080/"
        },
        "id": "llp9BpnPAKJz",
        "outputId": "56902f44-9092-4f26-ce92-c1faa230fa43"
      },
      "execution_count": null,
      "outputs": [
        {
          "output_type": "stream",
          "name": "stdout",
          "text": [
            "4/4 [==============================] - 18s 4s/step - loss: 1.5442 - accuracy: 0.6694\n",
            "Random Deletion Loss: 1.5442408323287964\n",
            "Random Deletion Accuracy: 0.6693548560142517\n"
          ]
        }
      ]
    },
    {
      "cell_type": "code",
      "source": [
        "import matplotlib.pyplot as plt\n",
        "\n",
        "# Create a figure with two subplots\n",
        "fig, axes = plt.subplots(1, 2, figsize=(9, 3))\n",
        "\n",
        "# Plot training loss values\n",
        "axes[0].plot(history.history['loss'])\n",
        "axes[0].set_title('Random Deletion Loss')\n",
        "axes[0].set_ylabel('Loss')\n",
        "axes[0].set_xlabel('Epoch')\n",
        "axes[0].legend(['Train'], loc='upper right')\n",
        "\n",
        "# Plot training accuracy values\n",
        "axes[1].plot(history.history['accuracy'])\n",
        "axes[1].set_title('Random Deletion Accuracy')\n",
        "axes[1].set_ylabel('Accuracy')\n",
        "axes[1].set_xlabel('Epoch')\n",
        "axes[1].legend(['Train'], loc='lower right')\n",
        "\n",
        "# Adjust layout\n",
        "plt.tight_layout()\n",
        "\n",
        "# Show the plot\n",
        "plt.show()"
      ],
      "metadata": {
        "colab": {
          "base_uri": "https://localhost:8080/",
          "height": 307
        },
        "id": "0dstuDD588yg",
        "outputId": "8e3c3601-cd29-4852-9c6e-8355648531d0"
      },
      "execution_count": null,
      "outputs": [
        {
          "output_type": "display_data",
          "data": {
            "text/plain": [
              "<Figure size 900x300 with 2 Axes>"
            ],
            "image/png": "[encoded data removed]"
          },
          "metadata": {}
        }
      ]
    },
    {
      "cell_type": "markdown",
      "source": [
        "#Random Swap"
      ],
      "metadata": {
        "id": "jUi7MB9289rB"
      }
    },
    {
      "cell_type": "code",
      "source": [
        "import random\n",
        "from nltk.tokenize import word_tokenize\n",
        "\n",
        "# Define the augmentation method\n",
        "def augment_text_random_swap(text):\n",
        "    # Tokenize the text into words\n",
        "    words = word_tokenize(text)\n",
        "\n",
        "    # Perform random word swaps\n",
        "    num_swaps = len(words) // 4  # Perform approximately one-fourth of the total number of word swaps\n",
        "    for _ in range(num_swaps):\n",
        "        # Randomly select two indices to swap\n",
        "        idx1, idx2 = random.sample(range(len(words)), 2)\n",
        "\n",
        "        # Perform the swap\n",
        "        words[idx1], words[idx2] = words[idx2], words[idx1]\n",
        "\n",
        "    # Concatenate the words back into a single string\n",
        "    augmented_text = \" \".join(words)\n",
        "\n",
        "    return augmented_text\n",
        "\n",
        "# Group text samples by label\n",
        "grouped_data = defaultdict(list)\n",
        "for label, text in zip(data_df['type'], data_df['text']):\n",
        "    grouped_data[label].append(text)\n",
        "\n",
        "# Apply random swap to each group of text samples\n",
        "augmented_texts = []\n",
        "for label, texts in grouped_data.items():\n",
        "    augmented_group = [augment_text_random_swap(text) for text in texts]\n",
        "    augmented_texts.extend(augmented_group)\n",
        "\n",
        "# Add the augmented text back to the DataFrame\n",
        "data_df['augmented_text_random_swap'] = augmented_texts"
      ],
      "metadata": {
        "id": "RX73P9a_8-mW"
      },
      "execution_count": null,
      "outputs": []
    },
    {
      "cell_type": "code",
      "source": [
        "vocab_size = len(tokenizer.word_index) + 1\n",
        "embedding_dim = 200\n",
        "model = Sequential()\n",
        "model.add(Embedding(input_dim=vocab_size, output_dim=embedding_dim, input_length=max_len))\n",
        "filters = 128\n",
        "kernel_size = 5\n",
        "model.add(Conv1D(filters=filters, kernel_size=kernel_size, activation='relu'))\n",
        "model.add(GlobalMaxPooling1D())\n",
        "hidden_units = 64\n",
        "model.add(Dense(hidden_units, activation='relu'))\n",
        "dropout_rate = 0.2\n",
        "model.add(Dropout(rate=dropout_rate))\n",
        "num_classes = len(np.unique(Y_train))\n",
        "model.add(Dense(num_classes, activation='softmax'))\n",
        "model.compile(optimizer='adam', loss='sparse_categorical_crossentropy', metrics=['accuracy'])\n",
        "model.summary()"
      ],
      "metadata": {
        "colab": {
          "base_uri": "https://localhost:8080/"
        },
        "id": "w0spURyX_vFe",
        "outputId": "8aee2daf-389c-41b5-adea-b5266d503643"
      },
      "execution_count": null,
      "outputs": [
        {
          "output_type": "stream",
          "name": "stdout",
          "text": [
            "Model: \"sequential_4\"\n",
            "_________________________________________________________________\n",
            " Layer (type)                Output Shape              Param #   \n",
            "=================================================================\n",
            " embedding_4 (Embedding)     (None, 21256, 200)        3830400   \n",
            "                                                                 \n",
            " conv1d_4 (Conv1D)           (None, 21252, 128)        128128    \n",
            "                                                                 \n",
            " global_max_pooling1d_4 (Gl  (None, 128)               0         \n",
            " obalMaxPooling1D)                                               \n",
            "                                                                 \n",
            " dense_8 (Dense)             (None, 64)                8256      \n",
            "                                                                 \n",
            " dropout_4 (Dropout)         (None, 64)                0         \n",
            "                                                                 \n",
            " dense_9 (Dense)             (None, 7)                 455       \n",
            "                                                                 \n",
            "=================================================================\n",
            "Total params: 3967239 (15.13 MB)\n",
            "Trainable params: 3967239 (15.13 MB)\n",
            "Non-trainable params: 0 (0.00 Byte)\n",
            "_________________________________________________________________\n"
          ]
        }
      ]
    },
    {
      "cell_type": "code",
      "source": [
        "# Train the model\n",
        "history = model.fit(X_train_pad, Y_train_encoded, epochs=10, batch_size=32, validation_split=0.2)"
      ],
      "metadata": {
        "colab": {
          "base_uri": "https://localhost:8080/"
        },
        "id": "Wa9vA95O_9dR",
        "outputId": "c9eaf90b-9e4a-489a-9df7-023bcdb1d6b5"
      },
      "execution_count": null,
      "outputs": [
        {
          "output_type": "stream",
          "name": "stdout",
          "text": [
            "Epoch 1/10\n",
            "13/13 [==============================] - 179s 14s/step - loss: 1.8434 - accuracy: 0.2196 - val_loss: 2.9800 - val_accuracy: 0.0000e+00\n",
            "Epoch 2/10\n",
            "13/13 [==============================] - 167s 13s/step - loss: 1.6195 - accuracy: 0.3669 - val_loss: 3.9471 - val_accuracy: 0.0000e+00\n",
            "Epoch 3/10\n",
            "13/13 [==============================] - 177s 14s/step - loss: 1.4526 - accuracy: 0.5013 - val_loss: 4.3937 - val_accuracy: 0.0206\n",
            "Epoch 4/10\n",
            "13/13 [==============================] - 179s 14s/step - loss: 1.2846 - accuracy: 0.6150 - val_loss: 4.6358 - val_accuracy: 0.0206\n",
            "Epoch 5/10\n",
            "13/13 [==============================] - 182s 14s/step - loss: 1.0915 - accuracy: 0.8010 - val_loss: 4.7321 - val_accuracy: 0.0309\n",
            "Epoch 6/10\n",
            "13/13 [==============================] - 179s 14s/step - loss: 0.8552 - accuracy: 0.8527 - val_loss: 4.7978 - val_accuracy: 0.0309\n",
            "Epoch 7/10\n",
            "13/13 [==============================] - 175s 14s/step - loss: 0.5661 - accuracy: 0.8863 - val_loss: 5.0070 - val_accuracy: 0.0309\n",
            "Epoch 8/10\n",
            "13/13 [==============================] - 186s 14s/step - loss: 0.3608 - accuracy: 0.9070 - val_loss: 5.2573 - val_accuracy: 0.0309\n",
            "Epoch 9/10\n",
            "13/13 [==============================] - 180s 14s/step - loss: 0.2540 - accuracy: 0.9612 - val_loss: 5.4262 - val_accuracy: 0.0309\n",
            "Epoch 10/10\n",
            "13/13 [==============================] - 178s 14s/step - loss: 0.1494 - accuracy: 0.9871 - val_loss: 5.9100 - val_accuracy: 0.0309\n"
          ]
        }
      ]
    },
    {
      "cell_type": "code",
      "source": [
        "# Evaluate the model on the testing data\n",
        "test_loss, test_accuracy = model.evaluate(X_test_pad, Y_test_encoded)\n",
        "\n",
        "# Print the test loss and accuracy\n",
        "print(\"Random Swap Loss:\", test_loss)\n",
        "print(\"Random Swap Accuracy:\", test_accuracy)"
      ],
      "metadata": {
        "colab": {
          "base_uri": "https://localhost:8080/"
        },
        "id": "Ui-ofhJKALyd",
        "outputId": "15e65f09-8123-46b1-e4ed-94cc55fe39f2"
      },
      "execution_count": null,
      "outputs": [
        {
          "output_type": "stream",
          "name": "stdout",
          "text": [
            "4/4 [==============================] - 15s 4s/step - loss: 1.6993 - accuracy: 0.6613\n",
            "Random Swap Loss: 1.6993359327316284\n",
            "Random Swap Accuracy: 0.6612903475761414\n"
          ]
        }
      ]
    },
    {
      "cell_type": "code",
      "source": [
        "import matplotlib.pyplot as plt\n",
        "\n",
        "# Create a figure with two subplots\n",
        "fig, axes = plt.subplots(1, 2, figsize=(9, 3))\n",
        "\n",
        "# Plot training loss values\n",
        "axes[0].plot(history.history['loss'])\n",
        "axes[0].set_title('Random Swap Loss')\n",
        "axes[0].set_ylabel('Loss')\n",
        "axes[0].set_xlabel('Epoch')\n",
        "axes[0].legend(['Train'], loc='upper right')\n",
        "\n",
        "# Plot training accuracy values\n",
        "axes[1].plot(history.history['accuracy'])\n",
        "axes[1].set_title('Random Swap Accuracy')\n",
        "axes[1].set_ylabel('Accuracy')\n",
        "axes[1].set_xlabel('Epoch')\n",
        "axes[1].legend(['Train'], loc='lower right')\n",
        "\n",
        "# Adjust layout\n",
        "plt.tight_layout()\n",
        "\n",
        "# Show the plot\n",
        "plt.show()"
      ],
      "metadata": {
        "colab": {
          "base_uri": "https://localhost:8080/",
          "height": 307
        },
        "id": "Vc7lm5Um79cs",
        "outputId": "a76dc820-7c94-48f2-d3a2-f46d47e788a2"
      },
      "execution_count": null,
      "outputs": [
        {
          "output_type": "display_data",
          "data": {
            "text/plain": [
              "<Figure size 900x300 with 2 Axes>"
            ],
            "image/png": "[encoded data removed]"
          },
          "metadata": {}
        }
      ]
    }
  ]
}