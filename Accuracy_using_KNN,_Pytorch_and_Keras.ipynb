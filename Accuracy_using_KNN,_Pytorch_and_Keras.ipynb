{
  "nbformat": 4,
  "nbformat_minor": 0,
  "metadata": {
    "colab": {
      "provenance": [],
      "authorship_tag": "ABX9TyMPbXmkSGYqT9C42+FFAaAv"
    },
    "kernelspec": {
      "name": "python3",
      "display_name": "Python 3"
    },
    "language_info": {
      "name": "python"
    }
  },
  "cells": [
    {
      "cell_type": "code",
      "execution_count": null,
      "metadata": {
        "colab": {
          "base_uri": "https://localhost:8080/"
        },
        "id": "GlpbNMDdRq9C",
        "outputId": "1169c912-2c09-41df-8a3a-489bf17bd5fe"
      },
      "outputs": [
        {
          "output_type": "stream",
          "name": "stdout",
          "text": [
            "Mounted at /content/drive\n"
          ]
        }
      ],
      "source": [
        "from google.colab import drive\n",
        "drive.mount ('/content/drive')"
      ]
    },
    {
      "cell_type": "code",
      "source": [
        "import pandas as pd\n",
        "df = pd.read_csv('/content/drive/MyDrive/ACADEMIA/1. MSC DATA ANALYTICS COURSE/TERM III/Computer Vision and Artificial Intelligence/Customers.csv')"
      ],
      "metadata": {
        "id": "GTwNekZQR2eE"
      },
      "execution_count": null,
      "outputs": []
    },
    {
      "cell_type": "code",
      "source": [
        "print(df)"
      ],
      "metadata": {
        "colab": {
          "base_uri": "https://localhost:8080/"
        },
        "id": "BdqihAfJSoVn",
        "outputId": "3ab01b1b-0774-402b-84aa-d2148c35b7d4"
      },
      "execution_count": null,
      "outputs": [
        {
          "output_type": "stream",
          "name": "stdout",
          "text": [
            "       Age  Income Student Credit_rating Buy_computer\n",
            "0    young    high      no          fair           no\n",
            "1    young    high      no     excellent           no\n",
            "2   middle    high      no          fair          yes\n",
            "3      old  medium      no          fair          yes\n",
            "4      old     low     yes          fair          yes\n",
            "5      old     low     yes     excellent           no\n",
            "6   middle     low     yes     excellent          yes\n",
            "7    young  medium      no          fair           no\n",
            "8    young     low     yes          fair          yes\n",
            "9      old  medium     yes          fair          yes\n",
            "10   young  medium     yes     excellent          yes\n",
            "11  middle  medium      no     excellent          yes\n",
            "12  middle    high     yes          fair          yes\n",
            "13     old  medium      no     excellent           no\n"
          ]
        }
      ]
    },
    {
      "cell_type": "code",
      "source": [
        "#Assign numerical value to the text values\n",
        "d_age = {'young':0, 'middle': 1, 'old': 2}\n",
        "d_income = {'high':0, 'medium': 1, 'low': 2}\n",
        "d_student = {'no':0, 'yes': 1}\n",
        "d_credit_rating = {'fair':0, 'excellent': 1}\n",
        "d_buy_computer = {'no':0, 'yes': 1}"
      ],
      "metadata": {
        "id": "H9WI91sSSyZW"
      },
      "execution_count": null,
      "outputs": []
    },
    {
      "cell_type": "code",
      "source": [
        "#Mapping Heading with the assigned value\n",
        "df['Age'] = df['Age'].map(d_age)\n",
        "df['Income'] = df['Income'].map(d_income)\n",
        "df['Student'] = df['Student'].map(d_student)\n",
        "df['Credit_rating'] = df['Credit_rating'].map(d_credit_rating)\n",
        "df['Buy_computer'] = df['Buy_computer'].map(d_buy_computer)"
      ],
      "metadata": {
        "id": "80qQGrUtTpUB"
      },
      "execution_count": null,
      "outputs": []
    },
    {
      "cell_type": "code",
      "source": [
        "print(df)"
      ],
      "metadata": {
        "colab": {
          "base_uri": "https://localhost:8080/"
        },
        "id": "lJGTHCm5UYrE",
        "outputId": "a09d05f7-bc84-4b92-e4ab-a3e9bdca45a0"
      },
      "execution_count": null,
      "outputs": [
        {
          "output_type": "stream",
          "name": "stdout",
          "text": [
            "    Age  Income  Student  Credit_rating  Buy_computer\n",
            "0     0       0        0              0             0\n",
            "1     0       0        0              1             0\n",
            "2     1       0        0              0             1\n",
            "3     2       1        0              0             1\n",
            "4     2       2        1              0             1\n",
            "5     2       2        1              1             0\n",
            "6     1       2        1              1             1\n",
            "7     0       1        0              0             0\n",
            "8     0       2        1              0             1\n",
            "9     2       1        1              0             1\n",
            "10    0       1        1              1             1\n",
            "11    1       1        0              1             1\n",
            "12    1       0        1              0             1\n",
            "13    2       1        0              1             0\n"
          ]
        }
      ]
    },
    {
      "cell_type": "code",
      "source": [
        "features = ['Age', 'Income', 'Student', 'Credit_rating']\n",
        "\n",
        "data = df[features]\n",
        "classes = df['Buy_computer']"
      ],
      "metadata": {
        "id": "M2os8GMMUaaR"
      },
      "execution_count": null,
      "outputs": []
    },
    {
      "cell_type": "code",
      "source": [
        "print (data)\n",
        "print('\\n\\n') #Print new line\n",
        "print(classes)"
      ],
      "metadata": {
        "colab": {
          "base_uri": "https://localhost:8080/"
        },
        "id": "SJFIR0b-vLGx",
        "outputId": "1cc0edf1-94e2-4541-ee73-292847ce015a"
      },
      "execution_count": null,
      "outputs": [
        {
          "output_type": "stream",
          "name": "stdout",
          "text": [
            "    Age  Income  Student  Credit_rating\n",
            "0     0       0        0              0\n",
            "1     0       0        0              1\n",
            "2     1       0        0              0\n",
            "3     2       1        0              0\n",
            "4     2       2        1              0\n",
            "5     2       2        1              1\n",
            "6     1       2        1              1\n",
            "7     0       1        0              0\n",
            "8     0       2        1              0\n",
            "9     2       1        1              0\n",
            "10    0       1        1              1\n",
            "11    1       1        0              1\n",
            "12    1       0        1              0\n",
            "13    2       1        0              1\n",
            "\n",
            "\n",
            "\n",
            "0     0\n",
            "1     0\n",
            "2     1\n",
            "3     1\n",
            "4     1\n",
            "5     0\n",
            "6     1\n",
            "7     0\n",
            "8     1\n",
            "9     1\n",
            "10    1\n",
            "11    1\n",
            "12    1\n",
            "13    0\n",
            "Name: Buy_computer, dtype: int64\n"
          ]
        }
      ]
    },
    {
      "cell_type": "code",
      "source": [
        "df_validation = pd.read_csv('/content/drive/MyDrive/ACADEMIA/1. MSC DATA ANALYTICS COURSE/TERM III/Computer Vision and Artificial Intelligence/validation_set.csv')\n",
        "print(df_validation)"
      ],
      "metadata": {
        "colab": {
          "base_uri": "https://localhost:8080/"
        },
        "id": "gfDE0905wBrn",
        "outputId": "3f32d843-c7fc-49e0-8653-b8b849a41246"
      },
      "execution_count": null,
      "outputs": [
        {
          "output_type": "stream",
          "name": "stdout",
          "text": [
            "       Age Income Student Credit_rating Buy_computer\n",
            "0      old    low     yes          fair          yes\n",
            "1      old   high      no          fair          yes\n",
            "2    young    low      no     excellent           no\n",
            "3   middle    low      no          fair           no\n",
            "4      old    low     yes     excellent           no\n",
            "5    young   high     yes     excellent          yes\n",
            "6    young   high      no          fair          yes\n",
            "7    young    low     yes          fair           no\n",
            "8   middle   high     yes     excellent           no\n",
            "9    young   high      no          fair          yes\n",
            "10     old    low      no     excellent           no\n"
          ]
        }
      ]
    },
    {
      "cell_type": "code",
      "source": [
        "#Mapping Heading with the validation value\n",
        "df_validation['Age'] = df_validation['Age'].map(d_age)\n",
        "df_validation['Income'] = df_validation['Income'].map(d_income)\n",
        "df_validation['Student'] = df_validation['Student'].map(d_student)\n",
        "df_validation['Credit_rating'] = df_validation['Credit_rating'].map(d_credit_rating)\n",
        "df_validation['Buy_computer'] = df_validation['Buy_computer'].map(d_buy_computer)\n",
        "test_df = df_validation[features]"
      ],
      "metadata": {
        "id": "_3OGwNWYwSb7"
      },
      "execution_count": null,
      "outputs": []
    },
    {
      "cell_type": "code",
      "source": [
        "print(test_df)"
      ],
      "metadata": {
        "colab": {
          "base_uri": "https://localhost:8080/"
        },
        "id": "PLxbk7RjxTzD",
        "outputId": "c481df4f-e84b-4aff-ee15-94d01453eac3"
      },
      "execution_count": null,
      "outputs": [
        {
          "output_type": "stream",
          "name": "stdout",
          "text": [
            "    Age  Income  Student  Credit_rating\n",
            "0     2       2        1              0\n",
            "1     2       0        0              0\n",
            "2     0       2        0              1\n",
            "3     1       2        0              0\n",
            "4     2       2        1              1\n",
            "5     0       0        1              1\n",
            "6     0       0        0              0\n",
            "7     0       2        1              0\n",
            "8     1       0        1              1\n",
            "9     0       0        0              0\n",
            "10    2       2        0              1\n"
          ]
        }
      ]
    },
    {
      "cell_type": "code",
      "source": [
        "def euclidean_distance (point1, point2):\n",
        "  return sum ((x-y) ** 2 for x, y in zip(point1, point2)) ** 0.5"
      ],
      "metadata": {
        "id": "Mh-vozICxpy-"
      },
      "execution_count": null,
      "outputs": []
    },
    {
      "cell_type": "code",
      "source": [
        "train_data = data.values\n",
        "train_classes = classes.values\n",
        "test_data = test_df.values\n",
        "#k = 2\n",
        "print(train_data)\n",
        "print(train_classes)\n",
        "print(test_data)\n",
        "#print(k)"
      ],
      "metadata": {
        "colab": {
          "base_uri": "https://localhost:8080/"
        },
        "id": "rfPPaz63yr44",
        "outputId": "3d553b5f-30ef-4376-f275-86cba880bef5"
      },
      "execution_count": null,
      "outputs": [
        {
          "output_type": "stream",
          "name": "stdout",
          "text": [
            "[[0 0 0 0]\n",
            " [0 0 0 1]\n",
            " [1 0 0 0]\n",
            " [2 1 0 0]\n",
            " [2 2 1 0]\n",
            " [2 2 1 1]\n",
            " [1 2 1 1]\n",
            " [0 1 0 0]\n",
            " [0 2 1 0]\n",
            " [2 1 1 0]\n",
            " [0 1 1 1]\n",
            " [1 1 0 1]\n",
            " [1 0 1 0]\n",
            " [2 1 0 1]]\n",
            "[0 0 1 1 1 0 1 0 1 1 1 1 1 0]\n",
            "[[2 2 1 0]\n",
            " [2 0 0 0]\n",
            " [0 2 0 1]\n",
            " [1 2 0 0]\n",
            " [2 2 1 1]\n",
            " [0 0 1 1]\n",
            " [0 0 0 0]\n",
            " [0 2 1 0]\n",
            " [1 0 1 1]\n",
            " [0 0 0 0]\n",
            " [2 2 0 1]]\n"
          ]
        }
      ]
    },
    {
      "cell_type": "code",
      "source": [
        "#def euclidean_distance(point1, point2):\n",
        "  #return sum((x-y) ** 2 for x,y in zip (point1, point2)) ** 0.5\n",
        "\n",
        "def knn(train_data, train_classes, test_data, k):\n",
        "    predictions = []\n",
        "    for test_point in test_data :\n",
        "      # Calculate distances between the test point and all training points\n",
        "      distances = [(euclidean_distance(test_point, train_point), train_class)\n",
        "      for train_point, train_class in zip (train_data, train_classes)]\n",
        "\n",
        "      # Sort distances in ascending order\n",
        "      distances.sort()\n",
        "\n",
        "      # Take the k-nearest neighbors\n",
        "      k_nearest = distances[:k]\n",
        "\n",
        "      # Get the classes of the k-nearest points\n",
        "      k_nearest_classes = [cls for _, cls in k_nearest]\n",
        "\n",
        "      # Make prediction based on the majority of class\n",
        "      majority_class = max(set(k_nearest_classes), key = k_nearest_classes.count)\n",
        "      predictions.append(majority_class)\n",
        "    return predictions\n",
        "\n",
        "# Step 3: Apply KNN on the given data\n",
        "train_data = data.values\n",
        "train_classes = classes.values\n",
        "\n",
        "#Test data\n",
        "test_data = test_df.values\n",
        "\n",
        "# Set the value of k\n",
        "k = 2\n",
        "\n",
        "# Make predictions using KNN\n",
        "predictions = knn(train_data, train_classes, test_data, k)\n",
        "\n",
        "# Print the predictions\n",
        "print(\"Predictions:\", predictions)"
      ],
      "metadata": {
        "colab": {
          "base_uri": "https://localhost:8080/"
        },
        "id": "Z8MjHdoMzFuW",
        "outputId": "6646cb4c-550b-433a-ac41-e1962bd7acfb"
      },
      "execution_count": null,
      "outputs": [
        {
          "output_type": "stream",
          "name": "stdout",
          "text": [
            "Predictions: [0, 1, 0, 0, 0, 0, 0, 0, 0, 0, 0]\n"
          ]
        }
      ]
    },
    {
      "cell_type": "code",
      "source": [
        "actual_classes =  df_validation ['Buy_computer'].values.tolist()\n",
        "print(actual_classes)"
      ],
      "metadata": {
        "colab": {
          "base_uri": "https://localhost:8080/"
        },
        "id": "VjFPX2hE2T4x",
        "outputId": "dc571bfc-8725-4285-a9df-851c6f3f45bd"
      },
      "execution_count": null,
      "outputs": [
        {
          "output_type": "stream",
          "name": "stdout",
          "text": [
            "[1, 1, 0, 0, 0, 1, 1, 0, 0, 1, 0]\n"
          ]
        }
      ]
    },
    {
      "cell_type": "code",
      "source": [
        "from sklearn import metrics\n",
        "confusion_matrix = metrics.confusion_matrix(actual_classes, predictions)"
      ],
      "metadata": {
        "id": "EBL5l6gU5VGu"
      },
      "execution_count": null,
      "outputs": []
    },
    {
      "cell_type": "code",
      "source": [
        "Accuracy = metrics.accuracy_score(actual_classes, predictions)\n",
        "print(Accuracy)"
      ],
      "metadata": {
        "colab": {
          "base_uri": "https://localhost:8080/"
        },
        "id": "8GTjpEjg5h0O",
        "outputId": "1441c818-f50a-425e-a339-6cde7a6ea5cc"
      },
      "execution_count": null,
      "outputs": [
        {
          "output_type": "stream",
          "name": "stdout",
          "text": [
            "0.6363636363636364\n"
          ]
        }
      ]
    },
    {
      "cell_type": "code",
      "source": [
        "cm_display = metrics.ConfusionMatrixDisplay (confusion_matrix= confusion_matrix, display_labels = [False, True])"
      ],
      "metadata": {
        "id": "nkhOfVy9513I"
      },
      "execution_count": null,
      "outputs": []
    },
    {
      "cell_type": "code",
      "source": [
        "import matplotlib.pyplot as plt\n",
        "cm_display.plot()\n",
        "plt.show()"
      ],
      "metadata": {
        "colab": {
          "base_uri": "https://localhost:8080/",
          "height": 455
        },
        "id": "mnD43Ss16XiZ",
        "outputId": "1ef463e2-c568-444f-ad1f-1a05bbe70c0c"
      },
      "execution_count": null,
      "outputs": [
        {
          "output_type": "display_data",
          "data": {
            "text/plain": [
              "<Figure size 640x480 with 2 Axes>"
            ],
            "image/png": "[encoded data removed]"
          },
          "metadata": {}
        }
      ]
    },
    {
      "cell_type": "code",
      "source": [
        "pip install torch torchvision"
      ],
      "metadata": {
        "colab": {
          "base_uri": "https://localhost:8080/"
        },
        "id": "J1AxxMav6zJa",
        "outputId": "d9a3ad32-cf9b-417c-da61-019c74282885"
      },
      "execution_count": null,
      "outputs": [
        {
          "output_type": "stream",
          "name": "stdout",
          "text": [
            "Requirement already satisfied: torch in /usr/local/lib/python3.10/dist-packages (2.1.0+cu118)\n",
            "Requirement already satisfied: torchvision in /usr/local/lib/python3.10/dist-packages (0.16.0+cu118)\n",
            "Requirement already satisfied: filelock in /usr/local/lib/python3.10/dist-packages (from torch) (3.13.1)\n",
            "Requirement already satisfied: typing-extensions in /usr/local/lib/python3.10/dist-packages (from torch) (4.5.0)\n",
            "Requirement already satisfied: sympy in /usr/local/lib/python3.10/dist-packages (from torch) (1.12)\n",
            "Requirement already satisfied: networkx in /usr/local/lib/python3.10/dist-packages (from torch) (3.2.1)\n",
            "Requirement already satisfied: jinja2 in /usr/local/lib/python3.10/dist-packages (from torch) (3.1.2)\n",
            "Requirement already satisfied: fsspec in /usr/local/lib/python3.10/dist-packages (from torch) (2023.6.0)\n",
            "Requirement already satisfied: triton==2.1.0 in /usr/local/lib/python3.10/dist-packages (from torch) (2.1.0)\n",
            "Requirement already satisfied: numpy in /usr/local/lib/python3.10/dist-packages (from torchvision) (1.23.5)\n",
            "Requirement already satisfied: requests in /usr/local/lib/python3.10/dist-packages (from torchvision) (2.31.0)\n",
            "Requirement already satisfied: pillow!=8.3.*,>=5.3.0 in /usr/local/lib/python3.10/dist-packages (from torchvision) (9.4.0)\n",
            "Requirement already satisfied: MarkupSafe>=2.0 in /usr/local/lib/python3.10/dist-packages (from jinja2->torch) (2.1.3)\n",
            "Requirement already satisfied: charset-normalizer<4,>=2 in /usr/local/lib/python3.10/dist-packages (from requests->torchvision) (3.3.2)\n",
            "Requirement already satisfied: idna<4,>=2.5 in /usr/local/lib/python3.10/dist-packages (from requests->torchvision) (3.6)\n",
            "Requirement already satisfied: urllib3<3,>=1.21.1 in /usr/local/lib/python3.10/dist-packages (from requests->torchvision) (2.0.7)\n",
            "Requirement already satisfied: certifi>=2017.4.17 in /usr/local/lib/python3.10/dist-packages (from requests->torchvision) (2023.11.17)\n",
            "Requirement already satisfied: mpmath>=0.19 in /usr/local/lib/python3.10/dist-packages (from sympy->torch) (1.3.0)\n"
          ]
        }
      ]
    },
    {
      "cell_type": "code",
      "source": [
        "#Executing Pytorch Framework\n",
        "import numpy as np\n",
        "import torch\n",
        "import torch.nn as nn\n",
        "import torch.optim as optim\n",
        "import torch.nn.functional as F\n",
        "from sklearn.model_selection import train_test_split\n",
        "from sklearn.metrics import accuracy_score\n",
        "from sklearn.neighbors import KNeighborsClassifier"
      ],
      "metadata": {
        "id": "Kmv6a3RXM9Rk"
      },
      "execution_count": null,
      "outputs": []
    },
    {
      "cell_type": "code",
      "source": [
        "data_tensor = torch.FloatTensor (train_data)\n",
        "labels_tensor = torch.LongTensor (train_classes)"
      ],
      "metadata": {
        "id": "4JujDK-eNBAC"
      },
      "execution_count": null,
      "outputs": []
    },
    {
      "cell_type": "code",
      "source": [
        "#Split the data into training and testing sets\n",
        "data_train, data_test, labels_train, labels_test = train_test_split(data_tensor, labels_tensor, test_size = 0.2, random_state = 42)\n",
        "\n",
        "#Creating a model for Neural Networks\n",
        "class SimpleNeuralNetwork(nn.Module):\n",
        "  def __init__(self):\n",
        "    super(SimpleNeuralNetwork, self).__init__()\n",
        "    self.fc1 = nn.Linear (4,8)\n",
        "    self.fc2 = nn.Linear (8,2)\n",
        "  def forward(self, x):\n",
        "    x = F.relu(self.fc1(x))\n",
        "    x = self.fc2(x)\n",
        "    return x\n",
        "\n",
        "#Train the Neural Network\n",
        "def train_neural_network (model, data_train, labels_train, epochs = 100, lr = 0.01):\n",
        "  criterion = nn.CrossEntropyLoss()\n",
        "  optimizer = optim.SGD(model.parameters(), lr = lr) #SGD = Stochastic Gradient Descent\n",
        "  for epoch in range(epochs):\n",
        "    optimizer.zero_grad()\n",
        "    outputs = model(data_train)\n",
        "    loss = criterion(outputs,labels_train)\n",
        "    loss.backward()\n",
        "    optimizer.step()\n",
        "\n",
        "#Create and train the neural network\n",
        "neural_network = SimpleNeuralNetwork()\n",
        "train_neural_network(neural_network, data_train, labels_train)\n",
        "\n",
        "#Test the Neural Network\n",
        "def test_neural_network(model, data_test):\n",
        "  outputs = model(data_test)\n",
        "  _, predicted = torch.max(outputs.data, 1)\n",
        "  return predicted\n",
        "\n",
        "#Test the KNN algorithms\n",
        "def test_knn (data_train, labels_train, data_test, k):\n",
        "  knn = KNeighborsClassifier (n_neighbors = k)\n",
        "  knn.fit(data_train, labels_train)\n",
        "  return knn.predict(data_test)\n",
        "\n",
        "#Convert tensor outputs to numpy arrays\n",
        "predictions_neural_network = test_neural_network (neural_network, data_test).numpy()\n",
        "predictions_knn = test_knn (data_train.numpy(), labels_train.numpy(), data_test.numpy(), k = 2)\n",
        "\n",
        "#Calculate accuracy for both models\n",
        "accuracy_neural_network = accuracy_score(labels_test.numpy(), predictions_neural_network)\n",
        "accuracy_knn = accuracy_score(labels_test.numpy(), predictions_knn)\n",
        "print(\"Accuracy of Neural Network: {:.2f}%\".format(accuracy_neural_network * 100))\n",
        "print(\"Accuracy of KNN: {:.2f}%\".format(accuracy_knn * 100))"
      ],
      "metadata": {
        "colab": {
          "base_uri": "https://localhost:8080/"
        },
        "id": "uj9DLjAqNEEW",
        "outputId": "3262a77c-ed2b-4133-f81d-da9be692cbdd"
      },
      "execution_count": null,
      "outputs": [
        {
          "output_type": "stream",
          "name": "stdout",
          "text": [
            "Accuracy of Neural Network: 100.00%\n",
            "Accuracy of KNN: 66.67%\n"
          ]
        }
      ]
    },
    {
      "cell_type": "code",
      "source": [
        "#Execting Keras Framework\n",
        "# convert the data and labels to pandas dataframes\n",
        "\n",
        "import tensorflow as tf\n",
        "\n",
        "from sklearn.preprocessing import LabelEncoder, StandardScaler\n",
        "from keras.models import Sequential\n",
        "from keras.layers import Dense\n",
        "\n",
        "df_data = data\n",
        "df_labels = classes\n",
        "\n",
        "#Split the data into trainiig and testing\n",
        "data_train, data_test, labels_train, labels_test = train_test_split(df_data, df_labels, test_size=0.2, random_state=42)\n",
        "\n",
        "#Convert the labels into to one-hot encoding for keras\n",
        "labels_train_keras = tf.keras.utils.to_categorical(labels_train, num_classes=2)\n",
        "labels_test_keras = tf.keras.utils.to_categorical(labels_test, num_classes=2)\n",
        "\n",
        "# Create the Neural Network using Keras\n",
        "model = tf.keras.models.Sequential([\n",
        "      tf.keras.layers.Dense(8, activation='relu', input_shape=(4,)),\n",
        "      tf.keras.layers.Dense(2,activation='softmax')\n",
        "])\n",
        "\n",
        "#Compile the Neural Network\n",
        "model.compile(optimizer='sgd', loss='categorical_crossentropy', metrics=['accuracy'])\n",
        "\n",
        "# Train the NN\n",
        "model.fit(data_train, labels_train_keras, epochs=500, batch_size=1, verbose=0)\n",
        "# Test the NN\n",
        "predictions_keras = model.predict(data_test)\n",
        "predicted_labels_keras = np.argmax(predictions_keras, axis=1)\n",
        "\n",
        "# Test the KNN algrtm\n",
        "knn = KNeighborsClassifier(n_neighbors=2)\n",
        "knn.fit(data_train, labels_train)\n",
        "predicted_labels_knn = knn.predict(data_test)\n",
        "\n",
        "# Calculate Accuracy\n",
        "accuracy_keras = accuracy_score(labels_test, predicted_labels_keras)\n",
        "accuracy_knn = accuracy_score(labels_test, predicted_labels_knn)\n",
        "\n",
        "print(\"Accuracy of Neural Network (Keras): {:2f}%\".format(accuracy_keras * 100))\n",
        "print(\"Accuracy of KNN: {:2f}%\".format(accuracy_knn * 100))"
      ],
      "metadata": {
        "id": "zgrDCOTtXe7S",
        "colab": {
          "base_uri": "https://localhost:8080/"
        },
        "outputId": "5654530e-ecaa-470b-a4d5-e5f1b9473219"
      },
      "execution_count": null,
      "outputs": [
        {
          "output_type": "stream",
          "name": "stdout",
          "text": [
            "1/1 [==============================] - 0s 68ms/step\n",
            "Accuracy of Neural Network (Keras): 66.666667%\n",
            "Accuracy of KNN: 66.666667%\n"
          ]
        }
      ]
    }
  ]
}